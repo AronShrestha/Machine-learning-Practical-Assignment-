{
 "cells": [
  {
   "cell_type": "code",
   "execution_count": 1,
   "id": "0375b3c2",
   "metadata": {},
   "outputs": [],
   "source": [
    "import numpy "
   ]
  },
  {
   "cell_type": "code",
   "execution_count": 2,
   "id": "04a12f5c",
   "metadata": {},
   "outputs": [
    {
     "data": {
      "text/plain": [
       "'1.21.5'"
      ]
     },
     "execution_count": 2,
     "metadata": {},
     "output_type": "execute_result"
    }
   ],
   "source": [
    "numpy.version.full_version\n"
   ]
  },
  {
   "cell_type": "code",
   "execution_count": 3,
   "id": "9a09f049",
   "metadata": {},
   "outputs": [],
   "source": [
    "import numpy as np "
   ]
  },
  {
   "cell_type": "code",
   "execution_count": 4,
   "id": "d3794436",
   "metadata": {},
   "outputs": [],
   "source": [
    "a = np.array([0,1,2,3,4,5]) #Creating a numpy array "
   ]
  },
  {
   "cell_type": "code",
   "execution_count": 5,
   "id": "baab6a58",
   "metadata": {},
   "outputs": [
    {
     "data": {
      "text/plain": [
       "array([0, 1, 2, 3, 4, 5])"
      ]
     },
     "execution_count": 5,
     "metadata": {},
     "output_type": "execute_result"
    }
   ],
   "source": [
    "a"
   ]
  },
  {
   "cell_type": "code",
   "execution_count": 6,
   "id": "445927cd",
   "metadata": {},
   "outputs": [
    {
     "data": {
      "text/plain": [
       "1"
      ]
     },
     "execution_count": 6,
     "metadata": {},
     "output_type": "execute_result"
    }
   ],
   "source": [
    "a.ndim #checking the dimension of created numpy arrray 'a'"
   ]
  },
  {
   "cell_type": "code",
   "execution_count": 7,
   "id": "f2228c9d",
   "metadata": {},
   "outputs": [
    {
     "data": {
      "text/plain": [
       "(6,)"
      ]
     },
     "execution_count": 7,
     "metadata": {},
     "output_type": "execute_result"
    }
   ],
   "source": [
    "a.shape #checking shpae"
   ]
  },
  {
   "cell_type": "code",
   "execution_count": 8,
   "id": "6ed49bc2",
   "metadata": {},
   "outputs": [],
   "source": [
    "b = a.reshape((3,2)) #Reshaping to change the shape , here the changed shape refrerene is stored to b so making changes in b changes corresponding value in a as well"
   ]
  },
  {
   "cell_type": "code",
   "execution_count": 9,
   "id": "771819ae",
   "metadata": {},
   "outputs": [
    {
     "data": {
      "text/plain": [
       "array([[0, 1],\n",
       "       [2, 3],\n",
       "       [4, 5]])"
      ]
     },
     "execution_count": 9,
     "metadata": {},
     "output_type": "execute_result"
    }
   ],
   "source": [
    "b"
   ]
  },
  {
   "cell_type": "code",
   "execution_count": 10,
   "id": "7e917f1d",
   "metadata": {},
   "outputs": [
    {
     "data": {
      "text/plain": [
       "2"
      ]
     },
     "execution_count": 10,
     "metadata": {},
     "output_type": "execute_result"
    }
   ],
   "source": [
    "b.ndim"
   ]
  },
  {
   "cell_type": "code",
   "execution_count": 11,
   "id": "d50bc35e",
   "metadata": {},
   "outputs": [
    {
     "data": {
      "text/plain": [
       "(3, 2)"
      ]
     },
     "execution_count": 11,
     "metadata": {},
     "output_type": "execute_result"
    }
   ],
   "source": [
    "b.shape"
   ]
  },
  {
   "cell_type": "code",
   "execution_count": 12,
   "id": "04e19dd5",
   "metadata": {},
   "outputs": [],
   "source": [
    "b[1][0] = 77"
   ]
  },
  {
   "cell_type": "code",
   "execution_count": 13,
   "id": "1d5b99bf",
   "metadata": {},
   "outputs": [
    {
     "data": {
      "text/plain": [
       "array([[ 0,  1],\n",
       "       [77,  3],\n",
       "       [ 4,  5]])"
      ]
     },
     "execution_count": 13,
     "metadata": {},
     "output_type": "execute_result"
    }
   ],
   "source": [
    "b"
   ]
  },
  {
   "cell_type": "code",
   "execution_count": 14,
   "id": "5e28441c",
   "metadata": {},
   "outputs": [
    {
     "data": {
      "text/plain": [
       "array([ 0,  1, 77,  3,  4,  5])"
      ]
     },
     "execution_count": 14,
     "metadata": {},
     "output_type": "execute_result"
    }
   ],
   "source": [
    "a #we can witness the changes made in b is reflectyed in a as well"
   ]
  },
  {
   "cell_type": "code",
   "execution_count": 15,
   "id": "09a642a1",
   "metadata": {},
   "outputs": [],
   "source": [
    "c=a.reshape((3,2)).copy() # so we need to explicitly call copy for true copy"
   ]
  },
  {
   "cell_type": "code",
   "execution_count": 16,
   "id": "366e800f",
   "metadata": {},
   "outputs": [
    {
     "data": {
      "text/plain": [
       "array([[ 0,  1],\n",
       "       [77,  3],\n",
       "       [ 4,  5]])"
      ]
     },
     "execution_count": 16,
     "metadata": {},
     "output_type": "execute_result"
    }
   ],
   "source": [
    "c"
   ]
  },
  {
   "cell_type": "code",
   "execution_count": 17,
   "id": "11e34d41",
   "metadata": {},
   "outputs": [],
   "source": [
    "c[0][0] = -99"
   ]
  },
  {
   "cell_type": "code",
   "execution_count": 18,
   "id": "45ba49de",
   "metadata": {},
   "outputs": [
    {
     "data": {
      "text/plain": [
       "array([[-99,   1],\n",
       "       [ 77,   3],\n",
       "       [  4,   5]])"
      ]
     },
     "execution_count": 18,
     "metadata": {},
     "output_type": "execute_result"
    }
   ],
   "source": [
    "c"
   ]
  },
  {
   "cell_type": "code",
   "execution_count": 19,
   "id": "2b368017",
   "metadata": {},
   "outputs": [
    {
     "data": {
      "text/plain": [
       "array([ 0,  1, 77,  3,  4,  5])"
      ]
     },
     "execution_count": 19,
     "metadata": {},
     "output_type": "execute_result"
    }
   ],
   "source": [
    "a"
   ]
  },
  {
   "cell_type": "code",
   "execution_count": 20,
   "id": "667f6a22",
   "metadata": {},
   "outputs": [],
   "source": [
    "d = np.array([1,2,3,4,5])"
   ]
  },
  {
   "cell_type": "code",
   "execution_count": 21,
   "id": "2be9daf5",
   "metadata": {},
   "outputs": [
    {
     "data": {
      "text/plain": [
       "array([ 2,  4,  6,  8, 10])"
      ]
     },
     "execution_count": 21,
     "metadata": {},
     "output_type": "execute_result"
    }
   ],
   "source": [
    "d*2"
   ]
  },
  {
   "cell_type": "code",
   "execution_count": 22,
   "id": "e5a799f8",
   "metadata": {},
   "outputs": [
    {
     "data": {
      "text/plain": [
       "array([ 1,  4,  9, 16, 25])"
      ]
     },
     "execution_count": 22,
     "metadata": {},
     "output_type": "execute_result"
    }
   ],
   "source": [
    "d**2"
   ]
  },
  {
   "cell_type": "code",
   "execution_count": 23,
   "id": "36ec7125",
   "metadata": {},
   "outputs": [],
   "source": [
    "c=[1,2,3,4]\n"
   ]
  },
  {
   "cell_type": "code",
   "execution_count": 24,
   "id": "cc9d6822",
   "metadata": {},
   "outputs": [
    {
     "data": {
      "text/plain": [
       "[1, 2, 3, 4, 1, 2, 3, 4]"
      ]
     },
     "execution_count": 24,
     "metadata": {},
     "output_type": "execute_result"
    }
   ],
   "source": [
    "c*2"
   ]
  },
  {
   "cell_type": "code",
   "execution_count": 25,
   "id": "14e842a3",
   "metadata": {},
   "outputs": [
    {
     "ename": "TypeError",
     "evalue": "unsupported operand type(s) for ** or pow(): 'list' and 'int'",
     "output_type": "error",
     "traceback": [
      "\u001b[0;31m---------------------------------------------------------------------------\u001b[0m",
      "\u001b[0;31mTypeError\u001b[0m                                 Traceback (most recent call last)",
      "Input \u001b[0;32mIn [25]\u001b[0m, in \u001b[0;36m<cell line: 1>\u001b[0;34m()\u001b[0m\n\u001b[0;32m----> 1\u001b[0m \u001b[43mc\u001b[49m\u001b[38;5;241;43m*\u001b[39;49m\u001b[38;5;241;43m*\u001b[39;49m\u001b[38;5;241;43m2\u001b[39;49m\n",
      "\u001b[0;31mTypeError\u001b[0m: unsupported operand type(s) for ** or pow(): 'list' and 'int'"
     ]
    }
   ],
   "source": [
    "c**2"
   ]
  },
  {
   "cell_type": "markdown",
   "id": "3e4513ac",
   "metadata": {},
   "source": [
    "## Indexing"
   ]
  },
  {
   "cell_type": "code",
   "execution_count": 26,
   "id": "75b20f52",
   "metadata": {},
   "outputs": [
    {
     "data": {
      "text/plain": [
       "array([ 0,  1, 77,  3,  4,  5])"
      ]
     },
     "execution_count": 26,
     "metadata": {},
     "output_type": "execute_result"
    }
   ],
   "source": [
    "a"
   ]
  },
  {
   "cell_type": "code",
   "execution_count": 27,
   "id": "d7e81d75",
   "metadata": {},
   "outputs": [
    {
     "data": {
      "text/plain": [
       "array([77,  3,  4])"
      ]
     },
     "execution_count": 27,
     "metadata": {},
     "output_type": "execute_result"
    }
   ],
   "source": [
    "a[np.array([2,3,4])] #using array themselves as indices"
   ]
  },
  {
   "cell_type": "code",
   "execution_count": 28,
   "id": "e8d3bbb6",
   "metadata": {},
   "outputs": [
    {
     "data": {
      "text/plain": [
       "array([False, False,  True, False, False,  True])"
      ]
     },
     "execution_count": 28,
     "metadata": {},
     "output_type": "execute_result"
    }
   ],
   "source": [
    "a>4 #returns true only for those greater than 4 "
   ]
  },
  {
   "cell_type": "code",
   "execution_count": 29,
   "id": "67f1725c",
   "metadata": {},
   "outputs": [
    {
     "data": {
      "text/plain": [
       "array([77,  5])"
      ]
     },
     "execution_count": 29,
     "metadata": {},
     "output_type": "execute_result"
    }
   ],
   "source": [
    "a[a>4] #returns values with index greater than 4"
   ]
  },
  {
   "cell_type": "code",
   "execution_count": 30,
   "id": "3f2d3d00",
   "metadata": {},
   "outputs": [],
   "source": [
    "a[a>4] = 4 #sets value 4 for those having index greater than 4"
   ]
  },
  {
   "cell_type": "code",
   "execution_count": 31,
   "id": "583d4f7b",
   "metadata": {},
   "outputs": [
    {
     "data": {
      "text/plain": [
       "array([0, 1, 4, 3, 4, 4])"
      ]
     },
     "execution_count": 31,
     "metadata": {},
     "output_type": "execute_result"
    }
   ],
   "source": [
    "a"
   ]
  },
  {
   "cell_type": "code",
   "execution_count": null,
   "id": "45ab5db9",
   "metadata": {},
   "outputs": [],
   "source": []
  },
  {
   "cell_type": "code",
   "execution_count": 32,
   "id": "3d45693a",
   "metadata": {},
   "outputs": [
    {
     "data": {
      "text/plain": [
       "array([0, 1, 4, 3, 4, 4])"
      ]
     },
     "execution_count": 32,
     "metadata": {},
     "output_type": "execute_result"
    }
   ],
   "source": [
    "a.clip(0,4) # clips values with in given lower limits and upper limits"
   ]
  },
  {
   "cell_type": "code",
   "execution_count": 33,
   "id": "c2cee80d",
   "metadata": {},
   "outputs": [
    {
     "data": {
      "text/plain": [
       "array([1, 1, 3, 3, 3, 3])"
      ]
     },
     "execution_count": 33,
     "metadata": {},
     "output_type": "execute_result"
    }
   ],
   "source": [
    "a.clip(1,3)"
   ]
  },
  {
   "cell_type": "markdown",
   "id": "4431baee",
   "metadata": {},
   "source": [
    "## Handling nonexisting values\n"
   ]
  },
  {
   "cell_type": "code",
   "execution_count": 34,
   "id": "b800d425",
   "metadata": {},
   "outputs": [],
   "source": [
    "#lets us pretendd we have read this from a text file:\n",
    "c= np.array([1,2,np.NAN,3,4])"
   ]
  },
  {
   "cell_type": "code",
   "execution_count": 35,
   "id": "a0c01457",
   "metadata": {},
   "outputs": [
    {
     "data": {
      "text/plain": [
       "array([ 1.,  2., nan,  3.,  4.])"
      ]
     },
     "execution_count": 35,
     "metadata": {},
     "output_type": "execute_result"
    }
   ],
   "source": [
    "c"
   ]
  },
  {
   "cell_type": "code",
   "execution_count": 36,
   "id": "83800e8d",
   "metadata": {},
   "outputs": [
    {
     "data": {
      "text/plain": [
       "array([False, False,  True, False, False])"
      ]
     },
     "execution_count": 36,
     "metadata": {},
     "output_type": "execute_result"
    }
   ],
   "source": [
    "np.isnan(c)"
   ]
  },
  {
   "cell_type": "code",
   "execution_count": 37,
   "id": "2dd1c5ec",
   "metadata": {},
   "outputs": [
    {
     "data": {
      "text/plain": [
       "array([1., 2., 3., 4.])"
      ]
     },
     "execution_count": 37,
     "metadata": {},
     "output_type": "execute_result"
    }
   ],
   "source": [
    "c[~np.isnan(c)] #here negation operator removes nan values"
   ]
  },
  {
   "cell_type": "code",
   "execution_count": 38,
   "id": "c790d685",
   "metadata": {},
   "outputs": [
    {
     "data": {
      "text/plain": [
       "nan"
      ]
     },
     "execution_count": 38,
     "metadata": {},
     "output_type": "execute_result"
    }
   ],
   "source": [
    "np.mean(c)"
   ]
  },
  {
   "cell_type": "code",
   "execution_count": 39,
   "id": "d99cd2c7",
   "metadata": {},
   "outputs": [
    {
     "data": {
      "text/plain": [
       "2.5"
      ]
     },
     "execution_count": 39,
     "metadata": {},
     "output_type": "execute_result"
    }
   ],
   "source": [
    "np.mean(c[~np.isnan(c)])#calculating mean value removing nan value"
   ]
  },
  {
   "cell_type": "code",
   "execution_count": null,
   "id": "52568bba",
   "metadata": {},
   "outputs": [],
   "source": []
  },
  {
   "cell_type": "markdown",
   "id": "448811e9",
   "metadata": {},
   "source": [
    "## Comparing the runtime "
   ]
  },
  {
   "cell_type": "code",
   "execution_count": 40,
   "id": "156ffcb5",
   "metadata": {},
   "outputs": [],
   "source": [
    "import timeit"
   ]
  },
  {
   "cell_type": "code",
   "execution_count": 41,
   "id": "dc8fb38e",
   "metadata": {},
   "outputs": [
    {
     "data": {
      "text/plain": [
       "0.5528414640000108"
      ]
     },
     "execution_count": 41,
     "metadata": {},
     "output_type": "execute_result"
    }
   ],
   "source": [
    "normal_py_sec = timeit.timeit('sum(x*x for x in range(1000))',number=10000)\n",
    "normal_py_sec"
   ]
  },
  {
   "cell_type": "code",
   "execution_count": 42,
   "id": "e26766d2",
   "metadata": {},
   "outputs": [
    {
     "data": {
      "text/plain": [
       "0.7463683259999812"
      ]
     },
     "execution_count": 42,
     "metadata": {},
     "output_type": "execute_result"
    }
   ],
   "source": [
    "mystmt = \"na=np.arange(1000); sum(na*na)\"\n",
    "mysetup = \"\"\"\n",
    "import numpy as np\n",
    "\n",
    "\"\"\"\n",
    "\n",
    "naive_np_sec = timeit.timeit(setup=mysetup,stmt=mystmt,number=10000)\n",
    "naive_np_sec"
   ]
  },
  {
   "cell_type": "code",
   "execution_count": 43,
   "id": "9754ac74",
   "metadata": {},
   "outputs": [
    {
     "data": {
      "text/plain": [
       "0.7178951859999927"
      ]
     },
     "execution_count": 43,
     "metadata": {},
     "output_type": "execute_result"
    }
   ],
   "source": [
    "\n",
    "\n",
    "naive_np_sec = timeit.timeit('sum(na*na)',setup=\"import numpy as np ; na=np.arange(1000)\",number=10000)\n",
    "naive_np_sec"
   ]
  },
  {
   "cell_type": "code",
   "execution_count": 44,
   "id": "e5064223",
   "metadata": {},
   "outputs": [
    {
     "data": {
      "text/plain": [
       "0.01685208000000671"
      ]
     },
     "execution_count": 44,
     "metadata": {},
     "output_type": "execute_result"
    }
   ],
   "source": [
    "\n",
    "good_np_sec = timeit.timeit('na.dot(na)',setup=\"import numpy as np ; na=np.arange(1000)\",number=10000)\n",
    "good_np_sec"
   ]
  },
  {
   "cell_type": "code",
   "execution_count": 45,
   "id": "c86a1b71",
   "metadata": {},
   "outputs": [
    {
     "data": {
      "text/plain": [
       "0.9695173370715074"
      ]
     },
     "execution_count": 45,
     "metadata": {},
     "output_type": "execute_result"
    }
   ],
   "source": [
    "(normal_py_sec-good_np_sec)/normal_py_sec"
   ]
  },
  {
   "cell_type": "code",
   "execution_count": 46,
   "id": "78aa274c",
   "metadata": {},
   "outputs": [
    {
     "data": {
      "text/plain": [
       "32.80553284815825"
      ]
     },
     "execution_count": 46,
     "metadata": {},
     "output_type": "execute_result"
    }
   ],
   "source": [
    "normal_py_sec/good_np_sec"
   ]
  },
  {
   "cell_type": "code",
   "execution_count": 47,
   "id": "893996fa",
   "metadata": {},
   "outputs": [
    {
     "data": {
      "text/plain": [
       "'Using numpy we no longer have the incredible flexibility of python lists which can hold anything \\n    .Numpy array always have one data type. If we try to use elements of different types ,Numpy arrays have only one \\n    data type\\n'"
      ]
     },
     "execution_count": 47,
     "metadata": {},
     "output_type": "execute_result"
    }
   ],
   "source": [
    "a = np.array([1,2,3]) \n",
    "\"\"\"Using numpy we no longer have the incredible flexibility of python lists which can hold anything \n",
    "    .Numpy array always have one data type. If we try to use elements of different types ,Numpy arrays have only one \n",
    "    data type\n",
    "\"\"\""
   ]
  },
  {
   "cell_type": "code",
   "execution_count": 48,
   "id": "95647b31",
   "metadata": {},
   "outputs": [
    {
     "data": {
      "text/plain": [
       "dtype('int64')"
      ]
     },
     "execution_count": 48,
     "metadata": {},
     "output_type": "execute_result"
    }
   ],
   "source": [
    "a.dtype"
   ]
  },
  {
   "cell_type": "code",
   "execution_count": 49,
   "id": "26fcd3ab",
   "metadata": {},
   "outputs": [
    {
     "data": {
      "text/plain": [
       "array(['1', 'stringy'], dtype='<U21')"
      ]
     },
     "execution_count": 49,
     "metadata": {},
     "output_type": "execute_result"
    }
   ],
   "source": [
    "np.array([1,'stringy'])"
   ]
  },
  {
   "cell_type": "code",
   "execution_count": 50,
   "id": "99fb330a",
   "metadata": {},
   "outputs": [
    {
     "data": {
      "text/plain": [
       "array([1, 'stringy', {1, 2, 3}], dtype=object)"
      ]
     },
     "execution_count": 50,
     "metadata": {},
     "output_type": "execute_result"
    }
   ],
   "source": [
    "np.array([1,\"stringy\",{1,2,3}])"
   ]
  },
  {
   "cell_type": "code",
   "execution_count": null,
   "id": "07ffbecb",
   "metadata": {},
   "outputs": [],
   "source": [
    "\n"
   ]
  },
  {
   "cell_type": "markdown",
   "id": "035d9dc7",
   "metadata": {},
   "source": [
    "# Learning SciPy "
   ]
  },
  {
   "cell_type": "code",
   "execution_count": 51,
   "id": "a23ca820",
   "metadata": {},
   "outputs": [],
   "source": [
    "import scipy, numpy"
   ]
  },
  {
   "cell_type": "code",
   "execution_count": 52,
   "id": "0f956405",
   "metadata": {},
   "outputs": [
    {
     "data": {
      "text/plain": [
       "'1.7.3'"
      ]
     },
     "execution_count": 52,
     "metadata": {},
     "output_type": "execute_result"
    }
   ],
   "source": [
    "scipy.version.full_version"
   ]
  },
  {
   "cell_type": "code",
   "execution_count": 53,
   "id": "12ef50ca",
   "metadata": {},
   "outputs": [
    {
     "data": {
      "text/plain": [
       "False"
      ]
     },
     "execution_count": 53,
     "metadata": {},
     "output_type": "execute_result"
    }
   ],
   "source": [
    "scipy.dot is numpy.dot"
   ]
  },
  {
   "cell_type": "markdown",
   "id": "f823e39e",
   "metadata": {},
   "source": [
    "# First application of machine learning\n"
   ]
  },
  {
   "cell_type": "markdown",
   "id": "7f9d864e",
   "metadata": {},
   "source": [
    "### Reading in the data"
   ]
  },
  {
   "cell_type": "code",
   "execution_count": 54,
   "id": "4e801bc2",
   "metadata": {},
   "outputs": [],
   "source": [
    "#using Scipy genfromatxt() to read the data\n",
    "data = np.genfromtxt(\"web_traffic.tsv\",delimiter=\"\\t\")"
   ]
  },
  {
   "cell_type": "code",
   "execution_count": 55,
   "id": "8ce835fa",
   "metadata": {},
   "outputs": [
    {
     "name": "stdout",
     "output_type": "stream",
     "text": [
      "[[1.000e+00 2.272e+03]\n",
      " [2.000e+00       nan]\n",
      " [3.000e+00 1.386e+03]\n",
      " [4.000e+00 1.365e+03]\n",
      " [5.000e+00 1.488e+03]\n",
      " [6.000e+00 1.337e+03]\n",
      " [7.000e+00 1.883e+03]\n",
      " [8.000e+00 2.283e+03]\n",
      " [9.000e+00 1.335e+03]\n",
      " [1.000e+01 1.025e+03]]\n"
     ]
    }
   ],
   "source": [
    "print(data[:10])"
   ]
  },
  {
   "cell_type": "code",
   "execution_count": 57,
   "id": "f2ffc4df",
   "metadata": {},
   "outputs": [
    {
     "name": "stdout",
     "output_type": "stream",
     "text": [
      "(743, 2)\n"
     ]
    }
   ],
   "source": [
    "print(data.shape) #So there are 743 coumns data points and two rows"
   ]
  },
  {
   "cell_type": "raw",
   "id": "5255b7be",
   "metadata": {},
   "source": []
  },
  {
   "cell_type": "markdown",
   "id": "e914c597",
   "metadata": {},
   "source": [
    "## Preprocessing and cleaning the data "
   ]
  },
  {
   "cell_type": "code",
   "execution_count": 58,
   "id": "53836189",
   "metadata": {},
   "outputs": [],
   "source": [
    "#Separating dimension into two vectors each of size 743 data points. X contains hours, and y contains web hits\n",
    "#This splitting is done using the special index notation of SciPy, by which we can choose the columns individually"
   ]
  },
  {
   "cell_type": "code",
   "execution_count": 60,
   "id": "45938612",
   "metadata": {},
   "outputs": [],
   "source": [
    "x = data[:,0]\n",
    "y = data[:,1]"
   ]
  },
  {
   "cell_type": "code",
   "execution_count": 61,
   "id": "4d4d8cdc",
   "metadata": {},
   "outputs": [
    {
     "data": {
      "text/plain": [
       "(array([  1.,   2.,   3.,   4.,   5.,   6.,   7.,   8.,   9.,  10.,  11.,\n",
       "         12.,  13.,  14.,  15.,  16.,  17.,  18.,  19.,  20.,  21.,  22.,\n",
       "         23.,  24.,  25.,  26.,  27.,  28.,  29.,  30.,  31.,  32.,  33.,\n",
       "         34.,  35.,  36.,  37.,  38.,  39.,  40.,  41.,  42.,  43.,  44.,\n",
       "         45.,  46.,  47.,  48.,  49.,  50.,  51.,  52.,  53.,  54.,  55.,\n",
       "         56.,  57.,  58.,  59.,  60.,  61.,  62.,  63.,  64.,  65.,  66.,\n",
       "         67.,  68.,  69.,  70.,  71.,  72.,  73.,  74.,  75.,  76.,  77.,\n",
       "         78.,  79.,  80.,  81.,  82.,  83.,  84.,  85.,  86.,  87.,  88.,\n",
       "         89.,  90.,  91.,  92.,  93.,  94.,  95.,  96.,  97.,  98.,  99.,\n",
       "        100., 101., 102., 103., 104., 105., 106., 107., 108., 109., 110.,\n",
       "        111., 112., 113., 114., 115., 116., 117., 118., 119., 120., 121.,\n",
       "        122., 123., 124., 125., 126., 127., 128., 129., 130., 131., 132.,\n",
       "        133., 134., 135., 136., 137., 138., 139., 140., 141., 142., 143.,\n",
       "        144., 145., 146., 147., 148., 149., 150., 151., 152., 153., 154.,\n",
       "        155., 156., 157., 158., 159., 160., 161., 162., 163., 164., 165.,\n",
       "        166., 167., 168., 169., 170., 171., 172., 173., 174., 175., 176.,\n",
       "        177., 178., 179., 180., 181., 182., 183., 184., 185., 186., 187.,\n",
       "        188., 189., 190., 191., 192., 193., 194., 195., 196., 197., 198.,\n",
       "        199., 200., 201., 202., 203., 204., 205., 206., 207., 208., 209.,\n",
       "        210., 211., 212., 213., 214., 215., 216., 217., 218., 219., 220.,\n",
       "        221., 222., 223., 224., 225., 226., 227., 228., 229., 230., 231.,\n",
       "        232., 233., 234., 235., 236., 237., 238., 239., 240., 241., 242.,\n",
       "        243., 244., 245., 246., 247., 248., 249., 250., 251., 252., 253.,\n",
       "        254., 255., 256., 257., 258., 259., 260., 261., 262., 263., 264.,\n",
       "        265., 266., 267., 268., 269., 270., 271., 272., 273., 274., 275.,\n",
       "        276., 277., 278., 279., 280., 281., 282., 283., 284., 285., 286.,\n",
       "        287., 288., 289., 290., 291., 292., 293., 294., 295., 296., 297.,\n",
       "        298., 299., 300., 301., 302., 303., 304., 305., 306., 307., 308.,\n",
       "        309., 310., 311., 312., 313., 314., 315., 316., 317., 318., 319.,\n",
       "        320., 321., 322., 323., 324., 325., 326., 327., 328., 329., 330.,\n",
       "        331., 332., 333., 334., 335., 336., 337., 338., 339., 340., 341.,\n",
       "        342., 343., 344., 345., 346., 347., 348., 349., 350., 351., 352.,\n",
       "        353., 354., 355., 356., 357., 358., 359., 360., 361., 362., 363.,\n",
       "        364., 365., 366., 367., 368., 369., 370., 371., 372., 373., 374.,\n",
       "        375., 376., 377., 378., 379., 380., 381., 382., 383., 384., 385.,\n",
       "        386., 387., 388., 389., 390., 391., 392., 393., 394., 395., 396.,\n",
       "        397., 398., 399., 400., 401., 402., 403., 404., 405., 406., 407.,\n",
       "        408., 409., 410., 411., 412., 413., 414., 415., 416., 417., 418.,\n",
       "        419., 420., 421., 422., 423., 424., 425., 426., 427., 428., 429.,\n",
       "        430., 431., 432., 433., 434., 435., 436., 437., 438., 439., 440.,\n",
       "        441., 442., 443., 444., 445., 446., 447., 448., 449., 450., 451.,\n",
       "        452., 453., 454., 455., 456., 457., 458., 459., 460., 461., 462.,\n",
       "        463., 464., 465., 466., 467., 468., 469., 470., 471., 472., 473.,\n",
       "        474., 475., 476., 477., 478., 479., 480., 481., 482., 483., 484.,\n",
       "        485., 486., 487., 488., 489., 490., 491., 492., 493., 494., 495.,\n",
       "        496., 497., 498., 499., 500., 501., 502., 503., 504., 505., 506.,\n",
       "        507., 508., 509., 510., 511., 512., 513., 514., 515., 516., 517.,\n",
       "        518., 519., 520., 521., 522., 523., 524., 525., 526., 527., 528.,\n",
       "        529., 530., 531., 532., 533., 534., 535., 536., 537., 538., 539.,\n",
       "        540., 541., 542., 543., 544., 545., 546., 547., 548., 549., 550.,\n",
       "        551., 552., 553., 554., 555., 556., 557., 558., 559., 560., 561.,\n",
       "        562., 563., 564., 565., 566., 567., 568., 569., 570., 571., 572.,\n",
       "        573., 574., 575., 576., 577., 578., 579., 580., 581., 582., 583.,\n",
       "        584., 585., 586., 587., 588., 589., 590., 591., 592., 593., 594.,\n",
       "        595., 596., 597., 598., 599., 600., 601., 602., 603., 604., 605.,\n",
       "        606., 607., 608., 609., 610., 611., 612., 613., 614., 615., 616.,\n",
       "        617., 618., 619., 620., 621., 622., 623., 624., 625., 626., 627.,\n",
       "        628., 629., 630., 631., 632., 633., 634., 635., 636., 637., 638.,\n",
       "        639., 640., 641., 642., 643., 644., 645., 646., 647., 648., 649.,\n",
       "        650., 651., 652., 653., 654., 655., 656., 657., 658., 659., 660.,\n",
       "        661., 662., 663., 664., 665., 666., 667., 668., 669., 670., 671.,\n",
       "        672., 673., 674., 675., 676., 677., 678., 679., 680., 681., 682.,\n",
       "        683., 684., 685., 686., 687., 688., 689., 690., 691., 692., 693.,\n",
       "        694., 695., 696., 697., 698., 699., 700., 701., 702., 703., 704.,\n",
       "        705., 706., 707., 708., 709., 710., 711., 712., 713., 714., 715.,\n",
       "        716., 717., 718., 719., 720., 721., 722., 723., 724., 725., 726.,\n",
       "        727., 728., 729., 730., 731., 732., 733., 734., 735., 736., 737.,\n",
       "        738., 739., 740., 741., 742., 743.]),\n",
       " array([2272.,   nan, 1386., 1365., 1488., 1337., 1883., 2283., 1335.,\n",
       "        1025., 1139., 1477., 1203., 1311., 1299., 1494., 1159., 1365.,\n",
       "        1272., 1246., 1071., 1876.,   nan, 1410.,  925., 1533., 2104.,\n",
       "        2113., 1993., 1045., 2090., 2227., 1413., 1718., 1721., 1291.,\n",
       "        1838., 2540., 1608., 2455., 1929., 1767., 1203., 1761., 1723.,\n",
       "        2160.,  808.,   nan, 1324., 1809., 1933., 1351., 2013., 1207.,\n",
       "        2170., 1700., 1899., 1757., 1475., 1921., 1971., 1809., 1365.,\n",
       "        1775., 1687., 1706., 1353., 1316., 1512., 2430., 1788., 1380.,\n",
       "        1357.,  990., 1586., 2057., 1690., 1458., 1201., 1949., 1493.,\n",
       "        1653., 1217., 1457., 1179., 1484., 2730., 1414., 1060., 1573.,\n",
       "        1260., 1216.,  981., 1345.,   nan, 1667.,  730., 1034., 1628.,\n",
       "        1155., 1305., 1444., 2242., 1842., 1210., 1384., 1313., 1508.,\n",
       "        1796., 1265., 1090., 2159., 1167., 1391., 1445., 1196., 1049.,\n",
       "        1999.,  472., 1285., 1737., 1534., 2636., 1372., 1325.,  833.,\n",
       "        1200., 2431., 1740., 2121., 1726., 1344., 1072., 1386., 1054.,\n",
       "        1051., 1270., 1857., 1437., 2016., 1352.,  909., 1761., 1009.,\n",
       "        2035., 1534., 1708.,  733., 1455., 1332., 1606., 1065., 1291.,\n",
       "          nan, 1495., 1928., 2249.,  987., 1023.,  875., 1569., 1032.,\n",
       "        1079., 1087., 1152.,  961., 1232., 2188., 1179., 1475., 1612.,\n",
       "         921., 2432., 1650., 1077.,  823., 1578., 1872., 1669.,   nan,\n",
       "          nan, 1407., 1619.,  894., 1948., 2298., 2163., 1108., 1731.,\n",
       "        1601., 1684., 2025., 1688., 1736., 1474., 1770., 1348., 1570.,\n",
       "        1861., 1458., 2282., 1553., 2323., 1202., 1768., 2184., 1329.,\n",
       "        1781., 1242.,   nan, 1454., 1501.,  875., 1521., 2611., 1948.,\n",
       "        1707., 1335., 2211., 1358., 2501., 1764., 1527., 1421., 1949.,\n",
       "        2156., 1503., 1658., 1032., 1536., 1345., 2022., 2035., 2109.,\n",
       "        1587., 1666., 1064., 1457., 2399., 1449., 2406., 1831., 1423.,\n",
       "        1754., 1641., 1428., 1928., 1618., 1361., 1273., 1300.,  997.,\n",
       "        1163., 1480., 2131., 1833., 1161., 1168., 1570., 1675.,  966.,\n",
       "        1395., 1638., 1713., 1799., 1917., 1894., 1009., 1003., 1962.,\n",
       "        1730.,  731., 2166., 1059., 1520., 1708., 1227., 1085., 1045.,\n",
       "        1720., 1495.,  960., 1420., 1318.,  740.,  878., 1357., 2318.,\n",
       "        1544., 1583., 1693., 1153., 1469., 2004., 1114., 1281., 1500.,\n",
       "        1409.,  942.,  792.,  704., 1584., 1004.,  795., 1000., 2156.,\n",
       "         639., 1391., 1644., 1398.,  967., 1578., 1068., 1419., 1784.,\n",
       "        1952.,  996., 1485., 1419., 1534., 1633., 1013., 2085., 3102.,\n",
       "        1859.,  983., 2169., 2086., 2204., 1578., 1526., 1725.,  936.,\n",
       "        1678., 1573., 1187., 1535., 1333., 1701., 1925., 1651., 1491.,\n",
       "        1800., 1976., 1246., 2141., 1351., 1505., 1377., 2386., 1304.,\n",
       "        1424., 1881., 2393., 1599., 1444., 1985., 1158., 2098., 1540.,\n",
       "        1410., 2115., 1278., 2039., 2021., 1901., 1139., 1903., 2074.,\n",
       "        3661., 1799., 2431., 1499., 1040., 1825., 1733., 1727., 1076.,\n",
       "        1598., 1146., 1534., 1514., 1540., 1445., 1248., 1710., 2114.,\n",
       "        1816., 1759., 2173., 1791., 1710., 1930., 1803., 1879., 2289.,\n",
       "        1839., 1641., 1374., 1524., 1360., 1303., 1654., 1928., 1558.,\n",
       "        1736., 1752., 1042., 1201., 1498., 2101., 2389., 1326., 1285.,\n",
       "        1413., 1970., 1242., 1920., 1163., 1651., 1300., 1850., 1799.,\n",
       "        1703., 1627., 1522., 1409., 2631., 1647., 1536., 1433., 1749.,\n",
       "        1274., 1658., 1579., 1607., 1382., 1322., 1168., 1067., 1890.,\n",
       "        1659., 1064.,  868., 1288., 2166., 1382., 1417., 2018., 1777.,\n",
       "        1596., 1420., 1324., 1899., 1513., 1683., 1369., 1266., 1034.,\n",
       "        2045., 1498., 1607., 1331., 1132., 1238., 2298., 1241., 2039.,\n",
       "        1177., 1220., 1746., 1917., 1165.,  860., 1830., 1170., 1229.,\n",
       "        1274., 1900., 1867., 1610., 1963., 1669., 1291., 1751., 1335.,\n",
       "        1323., 1652., 2086., 1437., 1731., 1950., 2203., 2260., 1580.,\n",
       "        1562., 1860., 1793., 1000., 1912., 2475., 2105., 1732., 2309.,\n",
       "        1874., 1816., 1097., 2015., 2241., 2772., 1320., 2738., 1389.,\n",
       "        2251., 2167., 2028., 1590., 2341., 2011., 1613., 1671., 1999.,\n",
       "        2894., 2637., 1884., 2404., 2255., 1960., 1847., 1558., 1559.,\n",
       "        2040., 1996., 2051., 1803., 1969., 1937., 2082., 1408., 2731.,\n",
       "        2220., 2330., 2437., 1915., 1986., 2145., 2276., 2157., 2626.,\n",
       "        1536., 1558., 3044., 2246., 2383., 2009., 1972., 2145., 2102.,\n",
       "        2327., 1732., 2640., 1992., 2199., 2393., 2190., 2495., 2390.,\n",
       "        2435., 1737., 2052., 2034., 1834., 3005., 1429., 2215., 1902.,\n",
       "        2284., 1993., 2059., 2169., 1981., 2098., 2506., 1911., 2560.,\n",
       "        1301., 1859., 2286., 1734., 2156., 2402., 2404., 3244., 1977.,\n",
       "        2412., 2007., 2014., 1564., 2022., 1772., 2582., 1845., 1621.,\n",
       "        1770., 2021., 2355., 1996., 2127., 2113., 1935., 2125., 1786.,\n",
       "        2276., 2978., 2542., 2112., 1968., 2368., 2241., 2073., 2122.,\n",
       "        2166., 2575., 2500., 2181., 1967., 2072., 2027., 2345., 2024.,\n",
       "        2249., 2455., 2265., 2425., 2851., 1997., 3298., 2366., 1853.,\n",
       "        2896., 2537., 2300., 2849., 2974., 1931., 3009., 2538., 2782.,\n",
       "        2491., 2408., 2003., 2752., 2576., 2818., 2683., 2628., 2994.,\n",
       "        2303., 2771., 2607., 2704., 2839., 3256., 3025., 2684., 3006.,\n",
       "        3310., 3183., 2523., 3401., 2840., 3193., 2969., 3337., 3464.,\n",
       "        3264., 3535., 3089., 2935., 3007., 4000., 3488., 2814., 3382.,\n",
       "        2901., 4260., 3785., 4139., 3588., 3343., 3118., 3456., 4150.,\n",
       "        3827., 3992., 4667., 3301., 3931., 4496., 3402., 3672., 3550.,\n",
       "        4230., 3805., 3352., 3602., 4015., 3548., 3316., 3932., 3596.,\n",
       "        5289., 3561., 3990., 3889., 3636., 3799., 4188., 5248., 4176.,\n",
       "        4829., 4346., 4224., 4813., 3997., 4357., 4322., 4156., 4630.,\n",
       "        4415., 4410., 4724., 4363., 4798., 4749., 5143., 4906., 4309.,\n",
       "        4970., 4813., 5392., 5906., 4881.]))"
      ]
     },
     "execution_count": 61,
     "metadata": {},
     "output_type": "execute_result"
    }
   ],
   "source": [
    "x,y"
   ]
  },
  {
   "cell_type": "code",
   "execution_count": 62,
   "id": "e158fe80",
   "metadata": {},
   "outputs": [
    {
     "data": {
      "text/plain": [
       "'We can observe that some values in y contains invalid value .Checking number of invalid value'"
      ]
     },
     "execution_count": 62,
     "metadata": {},
     "output_type": "execute_result"
    }
   ],
   "source": [
    "\"\"\"We can observe that some values in y contains invalid value .Checking number of invalid value\"\"\""
   ]
  },
  {
   "cell_type": "code",
   "execution_count": 63,
   "id": "d0c8984c",
   "metadata": {},
   "outputs": [
    {
     "data": {
      "text/plain": [
       "8"
      ]
     },
     "execution_count": 63,
     "metadata": {},
     "output_type": "execute_result"
    }
   ],
   "source": [
    "np.sum(np.isnan(y))"
   ]
  },
  {
   "cell_type": "code",
   "execution_count": 64,
   "id": "63a11c22",
   "metadata": {},
   "outputs": [],
   "source": [
    "x = x[~np.isnan(y)]"
   ]
  },
  {
   "cell_type": "code",
   "execution_count": 68,
   "id": "603a3eb1",
   "metadata": {},
   "outputs": [
    {
     "data": {
      "text/plain": [
       "0"
      ]
     },
     "execution_count": 68,
     "metadata": {},
     "output_type": "execute_result"
    }
   ],
   "source": [
    "np.sum(np.isnan(x))"
   ]
  },
  {
   "cell_type": "code",
   "execution_count": 70,
   "id": "b4ddbc09",
   "metadata": {},
   "outputs": [],
   "source": [
    "y = y[~np.isnan(y)]"
   ]
  },
  {
   "cell_type": "code",
   "execution_count": 71,
   "id": "2ada983d",
   "metadata": {},
   "outputs": [
    {
     "data": {
      "text/plain": [
       "0"
      ]
     },
     "execution_count": 71,
     "metadata": {},
     "output_type": "execute_result"
    }
   ],
   "source": [
    "np.sum(np.isnan(y))"
   ]
  },
  {
   "cell_type": "code",
   "execution_count": 72,
   "id": "a86aba23",
   "metadata": {},
   "outputs": [
    {
     "data": {
      "text/plain": [
       "\"To get the first impresion of our data , let's plot data in  scatter plot using matplotlib, Matplotlib contains \\nthe pyplot package, which tries to mimic Matlab interface ,which is a very convinent and easy to use interface, \\nas we can see in the following interface \\n\""
      ]
     },
     "execution_count": 72,
     "metadata": {},
     "output_type": "execute_result"
    }
   ],
   "source": [
    "\"\"\"To get the first impresion of our data , let's plot data in  scatter plot using matplotlib, Matplotlib contains \n",
    "the pyplot package, which tries to mimic Matlab interface ,which is a very convinent and easy to use interface, \n",
    "as we can see in the following interface \n",
    "\"\"\""
   ]
  },
  {
   "cell_type": "code",
   "execution_count": 73,
   "id": "73129db4",
   "metadata": {},
   "outputs": [],
   "source": [
    "import matplotlib.pyplot as plt"
   ]
  },
  {
   "cell_type": "code",
   "execution_count": 324,
   "id": "930684c2",
   "metadata": {},
   "outputs": [],
   "source": [
    "# def plot_web_traffic(x,y,models=None):\n",
    "#     \"\"\"\n",
    "#     Plot the web traffic(y) over time (x)\n",
    "#     If models is given , it is expected  to be a list of fitted models,\n",
    "#     which will be plotted as well \n",
    "#     \"\"\"\n",
    "#     plt.figure(figsize=(12,6)) #width and heigh of the plot in inches\n",
    "#     plt.scatter(x,y,s=10)\n",
    "#     plt.title(\"Web  traffic over the last month\")\n",
    "#     plt.xlabel(\"Time\")\n",
    "#     plt.ylabel(\"Hits / hour\")\n",
    "#     plt.xticks([w*7*24 for w in range(5)],['week %i ' %(w+1) for w in range(5) ] )\n",
    "    \n",
    "#     if models:\n",
    "#         colors = ['g','k','b','m','r']\n",
    "#         linestyles = ['-','-.','--',':','-']\n",
    "        \n",
    "#         mx = np.linspace(0,x[-1],1000)\n",
    "#         for model,style,color in zip(models,linestyles,colors):\n",
    "#             plt.plot(mx,model(mx),linestyle=style,linewidth=2,c=color)\n",
    "            \n",
    "#         plt.legend([\"d=%i\" % m.order for m in models],loc=\"upper left\")\n",
    "    \n",
    "#     plt.autoscale(tight=True)\n",
    "#     plt.grid()\n",
    "\n",
    "import matplotlib.pyplot as plt\n",
    "def plot_web_traffic(x, y, models=None):\n",
    "    '''\n",
    "    Plot the web traffic (y) over time (x).\n",
    "    If models is given, it is expected to be a list of fitted models,\n",
    "    which will be plotted as well (used later in this chapter).\n",
    "    '''\n",
    "    plt.figure(figsize=(12,6)) # width and height of the plot in inches\n",
    "    plt.scatter(x, y, s=10)\n",
    "    plt.title(\"Web traffic over the last month\")\n",
    "    plt.xlabel(\"Time\")\n",
    "    plt.ylabel(\"Hits/hour\")\n",
    "    plt.xticks([w*7*24 for w in range(5)],['week %i' %(w+1) for w in range(5)])\n",
    "    if models:\n",
    "        colors = ['g', 'k', 'b', 'm', 'r']\n",
    "        linestyles = ['-', '-.', '--', ':', '-']\n",
    "        mx = sp.linspace(0, x[-1], 1000)\n",
    "        for model, style, color in zip(models, linestyles, colors):\n",
    "            plt.plot(mx, model(mx), linestyle=style, linewidth=2, c=color)\n",
    "            plt.legend([\"d=%i\" % m.order for m in models], loc=\"upper left\")\n",
    "    \n",
    "    plt.autoscale(tight=True)\n",
    "    plt.grid()"
   ]
  },
  {
   "cell_type": "code",
   "execution_count": 325,
   "id": "d9bc9668",
   "metadata": {},
   "outputs": [
    {
     "data": {
      "image/png": "[encoded data removed]",
      "text/plain": [
       "<Figure size 864x432 with 1 Axes>"
      ]
     },
     "metadata": {
      "needs_background": "light"
     },
     "output_type": "display_data"
    }
   ],
   "source": [
    "plot_web_traffic(x,y)"
   ]
  },
  {
   "cell_type": "code",
   "execution_count": 326,
   "id": "deb4a598",
   "metadata": {},
   "outputs": [
    {
     "data": {
      "text/plain": [
       "374.8340136054422"
      ]
     },
     "execution_count": 326,
     "metadata": {},
     "output_type": "execute_result"
    }
   ],
   "source": [
    "np.mean(x)"
   ]
  },
  {
   "cell_type": "code",
   "execution_count": 271,
   "id": "98e6d7c3",
   "metadata": {},
   "outputs": [
    {
     "data": {
      "text/plain": [
       "1962.1659863945579"
      ]
     },
     "execution_count": 271,
     "metadata": {},
     "output_type": "execute_result"
    }
   ],
   "source": [
    "np.mean(y)"
   ]
  },
  {
   "cell_type": "code",
   "execution_count": 272,
   "id": "a75500ef",
   "metadata": {},
   "outputs": [],
   "source": [
    "%matplotlib inline"
   ]
  },
  {
   "cell_type": "code",
   "execution_count": 273,
   "id": "cea7b852",
   "metadata": {},
   "outputs": [
    {
     "data": {
      "image/png": "[encoded data removed]",
      "text/plain": [
       "<Figure size 864x432 with 1 Axes>"
      ]
     },
     "metadata": {
      "needs_background": "light"
     },
     "output_type": "display_data"
    }
   ],
   "source": [
    "plot_web_traffic(x,y)"
   ]
  },
  {
   "cell_type": "code",
   "execution_count": 274,
   "id": "7dbc63a2",
   "metadata": {},
   "outputs": [
    {
     "data": {
      "text/plain": [
       "<Figure size 432x288 with 0 Axes>"
      ]
     },
     "metadata": {},
     "output_type": "display_data"
    }
   ],
   "source": [
    "plt.savefig(\"web_traffic.png\")"
   ]
  },
  {
   "cell_type": "code",
   "execution_count": null,
   "id": "9fd0815b",
   "metadata": {},
   "outputs": [],
   "source": []
  },
  {
   "cell_type": "markdown",
   "id": "b7a8e5c8",
   "metadata": {},
   "source": [
    "## Choosing the right model and learning algorithm"
   ]
  },
  {
   "cell_type": "code",
   "execution_count": 275,
   "id": "24d4b18e",
   "metadata": {},
   "outputs": [
    {
     "data": {
      "text/plain": [
       "\"Inoder to know how long will our server be able to handle the incoming web traffic we need to :\\n 1) Find the real model behind the noisy data points\\n 2) Use the model to find the point in where our infrastructure won't handle the load anymore and has to be extended.\\n\""
      ]
     },
     "execution_count": 275,
     "metadata": {},
     "output_type": "execute_result"
    }
   ],
   "source": [
    "\"\"\"Inoder to know how long will our server be able to handle the incoming web traffic we need to :\n",
    " 1) Find the real model behind the noisy data points\n",
    " 2) Use the model to find the point in where our infrastructure won't handle the load anymore and has to be extended.\n",
    "\"\"\""
   ]
  },
  {
   "cell_type": "markdown",
   "id": "8d1a4015",
   "metadata": {},
   "source": [
    "## Before we build our first model"
   ]
  },
  {
   "cell_type": "code",
   "execution_count": 276,
   "id": "62a5f606",
   "metadata": {},
   "outputs": [],
   "source": [
    "def error(f,x,y): \n",
    "    '''\n",
    "    Function for calculating error \n",
    "        which is predicted value - actual value and to eliminate negative value we take sqrt\n",
    "    '''\n",
    "    return np.sum((f(x)-y)**2)"
   ]
  },
  {
   "cell_type": "markdown",
   "id": "0ec50e31",
   "metadata": {},
   "source": [
    "## Starting with a simple staright line "
   ]
  },
  {
   "cell_type": "code",
   "execution_count": 277,
   "id": "6bf1dff6",
   "metadata": {},
   "outputs": [],
   "source": [
    "fp1=np.polyfit(x,y,1) # here x and y are input and label data while 1 is order i.e for linear 1 , quad 2 and so on"
   ]
  },
  {
   "cell_type": "code",
   "execution_count": 278,
   "id": "29ef809d",
   "metadata": {},
   "outputs": [
    {
     "name": "stdout",
     "output_type": "stream",
     "text": [
      "model parameters: [  2.59619213 989.02487106]\n"
     ]
    }
   ],
   "source": [
    "'''The polyfit() function returns the parameters of the fitted model1 function , fp1'''\n",
    "print(\"model parameters: %s\" % fp1)"
   ]
  },
  {
   "cell_type": "code",
   "execution_count": 279,
   "id": "33499326",
   "metadata": {},
   "outputs": [
    {
     "data": {
      "text/plain": [
       "'The above output imples best straight line fit f(x)=2.59619213*x+989.02487106'"
      ]
     },
     "execution_count": 279,
     "metadata": {},
     "output_type": "execute_result"
    }
   ],
   "source": [
    "'''The above output imples best straight line fit f(x)=2.59619213*x+989.02487106'''"
   ]
  },
  {
   "cell_type": "code",
   "execution_count": 280,
   "id": "b74b63e8",
   "metadata": {},
   "outputs": [
    {
     "data": {
      "text/plain": [
       "'We then use polyid() to create a model function from the model parameters'"
      ]
     },
     "execution_count": 280,
     "metadata": {},
     "output_type": "execute_result"
    }
   ],
   "source": [
    "\"\"\"We then use polyid() to create a model function from the model parameters\"\"\""
   ]
  },
  {
   "cell_type": "code",
   "execution_count": 281,
   "id": "10264456",
   "metadata": {},
   "outputs": [],
   "source": [
    "f1 = np.poly1d(fp1)"
   ]
  },
  {
   "cell_type": "code",
   "execution_count": 282,
   "id": "0173dc2c",
   "metadata": {},
   "outputs": [
    {
     "data": {
      "text/plain": [
       "poly1d([  2.59619213, 989.02487106])"
      ]
     },
     "execution_count": 282,
     "metadata": {},
     "output_type": "execute_result"
    }
   ],
   "source": [
    "f1"
   ]
  },
  {
   "cell_type": "code",
   "execution_count": 283,
   "id": "1db1734b",
   "metadata": {},
   "outputs": [
    {
     "name": "stdout",
     "output_type": "stream",
     "text": [
      "317389767.339778\n"
     ]
    }
   ],
   "source": [
    "print(error(f1,x,y))"
   ]
  },
  {
   "cell_type": "code",
   "execution_count": 284,
   "id": "d47a7e04",
   "metadata": {},
   "outputs": [
    {
     "data": {
      "image/png": "[encoded data removed]",
      "text/plain": [
       "<Figure size 864x432 with 1 Axes>"
      ]
     },
     "metadata": {
      "needs_background": "light"
     },
     "output_type": "display_data"
    }
   ],
   "source": [
    "plot_web_traffic(x,y,[f1])"
   ]
  },
  {
   "cell_type": "markdown",
   "id": "9bcebef5",
   "metadata": {},
   "source": [
    "## Towards more cmplex models"
   ]
  },
  {
   "cell_type": "code",
   "execution_count": 285,
   "id": "b3407201",
   "metadata": {},
   "outputs": [],
   "source": [
    "f2p = np.polyfit(x,y,2)"
   ]
  },
  {
   "cell_type": "code",
   "execution_count": 286,
   "id": "e048e5ce",
   "metadata": {},
   "outputs": [
    {
     "name": "stdout",
     "output_type": "stream",
     "text": [
      "[ 1.05322215e-02 -5.26545650e+00  1.97476082e+03]\n"
     ]
    }
   ],
   "source": [
    "print(f2p)"
   ]
  },
  {
   "cell_type": "code",
   "execution_count": 288,
   "id": "048fb033",
   "metadata": {},
   "outputs": [
    {
     "name": "stdout",
     "output_type": "stream",
     "text": [
      "179983507.8781792\n"
     ]
    }
   ],
   "source": [
    "f2 = np.poly1d(f2p)\n",
    "print(error(f2,x,y))"
   ]
  },
  {
   "cell_type": "code",
   "execution_count": 289,
   "id": "35e8aafe",
   "metadata": {},
   "outputs": [
    {
     "data": {
      "image/png": "[encoded data removed]",
      "text/plain": [
       "<Figure size 864x432 with 1 Axes>"
      ]
     },
     "metadata": {
      "needs_background": "light"
     },
     "output_type": "display_data"
    }
   ],
   "source": [
    "plot_web_traffic(x,y,[f1,f2])"
   ]
  },
  {
   "cell_type": "code",
   "execution_count": 290,
   "id": "7c88bc9f",
   "metadata": {},
   "outputs": [
    {
     "data": {
      "text/plain": [
       "array([ 1.05322215e-02, -5.26545650e+00,  1.97476082e+03])"
      ]
     },
     "execution_count": 290,
     "metadata": {},
     "output_type": "execute_result"
    }
   ],
   "source": [
    "f2p"
   ]
  },
  {
   "cell_type": "code",
   "execution_count": 292,
   "id": "0b36fbd4",
   "metadata": {},
   "outputs": [],
   "source": [
    "'''For this 2nd degreee more complex model , we fit this polyomial model as '''\n",
    "fx = 0.0105605675*x**2 - 5.29774287*x + 1984.66917"
   ]
  },
  {
   "cell_type": "code",
   "execution_count": 294,
   "id": "0efc16ae",
   "metadata": {},
   "outputs": [
    {
     "name": "stdout",
     "output_type": "stream",
     "text": [
      "139350144.03172523\n"
     ]
    },
    {
     "data": {
      "image/png": "[encoded data removed]",
      "text/plain": [
       "<Figure size 864x432 with 1 Axes>"
      ]
     },
     "metadata": {
      "needs_background": "light"
     },
     "output_type": "display_data"
    }
   ],
   "source": [
    "f3p = np.polyfit(x,y,3)\n",
    "f3 = np.poly1d(f3p)\n",
    "print(error(f3,x,y))\n",
    "plot_web_traffic(x,y,[f1,f2,f3])"
   ]
  },
  {
   "cell_type": "code",
   "execution_count": 304,
   "id": "59aa60af",
   "metadata": {},
   "outputs": [
    {
     "name": "stdout",
     "output_type": "stream",
     "text": [
      "109452384.92468244\n"
     ]
    },
    {
     "name": "stderr",
     "output_type": "stream",
     "text": [
      "/home/aroooon/anaconda3/lib/python3.9/site-packages/numpy/lib/polynomial.py:658: RuntimeWarning: overflow encountered in multiply\n",
      "  scale = NX.sqrt((lhs*lhs).sum(axis=0))\n",
      "/home/aroooon/anaconda3/lib/python3.9/site-packages/numpy/core/_methods.py:48: RuntimeWarning: overflow encountered in reduce\n",
      "  return umr_sum(a, axis, dtype, out, keepdims, initial, where)\n",
      "/home/aroooon/anaconda3/lib/python3.9/site-packages/IPython/core/interactiveshell.py:3369: RankWarning: Polyfit may be poorly conditioned\n",
      "  exec(code_obj, self.user_global_ns, self.user_ns)\n"
     ]
    }
   ],
   "source": [
    "f100p = np.polyfit(x,y,100)\n",
    "f100 = np.poly1d(f100p)\n",
    "print(error(f100,x,y))"
   ]
  },
  {
   "cell_type": "code",
   "execution_count": 301,
   "id": "7cfb15ca",
   "metadata": {},
   "outputs": [
    {
     "name": "stdout",
     "output_type": "stream",
     "text": [
      "109452413.42127776\n"
     ]
    },
    {
     "name": "stderr",
     "output_type": "stream",
     "text": [
      "/home/aroooon/anaconda3/lib/python3.9/site-packages/IPython/core/interactiveshell.py:3369: RankWarning: Polyfit may be poorly conditioned\n",
      "  exec(code_obj, self.user_global_ns, self.user_ns)\n"
     ]
    }
   ],
   "source": [
    "f53p = np.polyfit(x,y,53)\n",
    "f53 = np.poly1d(f53p)\n",
    "print(error(f53,x,y))"
   ]
  },
  {
   "cell_type": "code",
   "execution_count": 302,
   "id": "00693e81",
   "metadata": {},
   "outputs": [],
   "source": [
    "f10p = np.polyfit(x,y,10)\n",
    "f10 = np.poly1d(f10p)"
   ]
  },
  {
   "cell_type": "code",
   "execution_count": 308,
   "id": "f228b9dc",
   "metadata": {},
   "outputs": [
    {
     "data": {
      "image/png": "[encoded data removed]",
      "text/plain": [
       "<Figure size 864x432 with 1 Axes>"
      ]
     },
     "metadata": {
      "needs_background": "light"
     },
     "output_type": "display_data"
    }
   ],
   "source": [
    "plot_web_traffic(x,y,[f1,f2,f3,f10,f100]) #Interestingly d=100 the poly. been fitted with 100 degree, but instead d=53 this has to do with warning we get when fitting 100 degree"
   ]
  },
  {
   "cell_type": "code",
   "execution_count": 310,
   "id": "e025203a",
   "metadata": {},
   "outputs": [
    {
     "name": "stdout",
     "output_type": "stream",
     "text": [
      "Errors for the complete data set:\n",
      "td=1: 317389767.339778\n",
      "td=2: 179983507.878179\n",
      "td=3: 139350144.031725\n",
      "td=10: 121942326.363474\n",
      "td=53: 109452384.924682\n"
     ]
    }
   ],
   "source": [
    "print(\"Errors for the complete data set:\")\n",
    "for f in [f1,f2,f3,f10,f100]:\n",
    "    print(\"td=%i: %f\" % (f.order, error(f,x,y)) ) "
   ]
  },
  {
   "cell_type": "markdown",
   "id": "d6faf349",
   "metadata": {},
   "source": [
    "## Stepping back to go go fore=ward -another look at our data "
   ]
  },
  {
   "cell_type": "code",
   "execution_count": 313,
   "id": "5ce9fedc",
   "metadata": {},
   "outputs": [],
   "source": [
    "inflection = int(3.5*7*24) #calculate the inflection point in hours"
   ]
  },
  {
   "cell_type": "code",
   "execution_count": 315,
   "id": "f9e87235",
   "metadata": {},
   "outputs": [],
   "source": [
    "xa = x[:inflection]#data before the inflection point\n",
    "ya = y[:inflection]\n",
    "xb=x[inflection:]#data after\n",
    "yb=y[inflection:]"
   ]
  },
  {
   "cell_type": "code",
   "execution_count": 321,
   "id": "4292d026",
   "metadata": {},
   "outputs": [
    {
     "name": "stdout",
     "output_type": "stream",
     "text": [
      "Error inflection =132950348.197616\n"
     ]
    }
   ],
   "source": [
    "fa = np.poly1d(np.polyfit(xa,ya,1))\n",
    "fb = np.poly1d(np.polyfit(xb,yb,1))\n",
    "fa_error = error(fa,xa,ya)\n",
    "fb_error = error(fb,xb,yb)\n",
    "print(\"Error inflection =%f\" % (fa_error + fb_error))"
   ]
  },
  {
   "cell_type": "code",
   "execution_count": 322,
   "id": "568528de",
   "metadata": {},
   "outputs": [
    {
     "data": {
      "image/png": "[encoded data removed]",
      "text/plain": [
       "<Figure size 864x432 with 1 Axes>"
      ]
     },
     "metadata": {
      "needs_background": "light"
     },
     "output_type": "display_data"
    }
   ],
   "source": [
    "plot_web_traffic(x,y,[fa,fb])"
   ]
  },
  {
   "cell_type": "code",
   "execution_count": null,
   "id": "545d0566",
   "metadata": {},
   "outputs": [],
   "source": []
  }
 ],
 "metadata": {
  "kernelspec": {
   "display_name": "Python 3 (ipykernel)",
   "language": "python",
   "name": "python3"
  },
  "language_info": {
   "codemirror_mode": {
    "name": "ipython",
    "version": 3
   },
   "file_extension": ".py",
   "mimetype": "text/x-python",
   "name": "python",
   "nbconvert_exporter": "python",
   "pygments_lexer": "ipython3",
   "version": "3.9.12"
  }
 },
 "nbformat": 4,
 "nbformat_minor": 5
}
