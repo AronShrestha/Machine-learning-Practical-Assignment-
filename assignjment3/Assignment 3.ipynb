{
 "cells": [
  {
   "cell_type": "markdown",
   "id": "92e0ac58",
   "metadata": {},
   "source": [
    "# Assignmnt 3\n"
   ]
  },
  {
   "cell_type": "markdown",
   "id": "b742ddcf",
   "metadata": {},
   "source": [
    "## Clustering -Finding related posts Measuring the relatedness of post"
   ]
  },
  {
   "cell_type": "markdown",
   "id": "8a1ec8b5",
   "metadata": {},
   "source": [
    "The naive approach is to calculate its similarity to all other posts and display thee top n \n",
    "top n most similar posts"
   ]
  },
  {
   "cell_type": "raw",
   "id": "2df33421",
   "metadata": {},
   "source": [
    "We will achieve this goal in this chapter by clustering features we have extracted from text.\n",
    "Clustering is a method of arranging items so that similar items are in one cluster and dissimilar\n",
    "items are in distinct ones. The tricky thing that we must tackle first is how to turn text into\n",
    "something from which we can calculate similarity. With such a similarity measurement, we will\n",
    "then proceed to investigate how we can leverage that to quickly arrive at a cluster that contains\n",
    "similar posts. Once there, we will only have to check those documents that also belong to that\n",
    "cluster"
   ]
  },
  {
   "cell_type": "markdown",
   "id": "db546ae2",
   "metadata": {},
   "source": [
    "## Convetrting raw text into a bag of words"
   ]
  },
  {
   "cell_type": "code",
   "execution_count": 1,
   "id": "3c0c386d",
   "metadata": {},
   "outputs": [],
   "source": [
    "from sklearn.feature_extraction.text import CountVectorizer\n",
    "import numpy as np"
   ]
  },
  {
   "cell_type": "code",
   "execution_count": 2,
   "id": "4b45f7ed",
   "metadata": {},
   "outputs": [],
   "source": [
    "vectorizer = CountVectorizer(min_df = 1)"
   ]
  },
  {
   "cell_type": "code",
   "execution_count": 3,
   "id": "5d65ad89",
   "metadata": {},
   "outputs": [
    {
     "data": {
      "text/plain": [
       "CountVectorizer()"
      ]
     },
     "execution_count": 3,
     "metadata": {},
     "output_type": "execute_result"
    }
   ],
   "source": [
    "vectorizer"
   ]
  },
  {
   "cell_type": "code",
   "execution_count": 4,
   "id": "938664c9",
   "metadata": {},
   "outputs": [
    {
     "name": "stderr",
     "output_type": "stream",
     "text": [
      "/home/aroooon/anaconda3/lib/python3.9/site-packages/sklearn/utils/deprecation.py:87: FutureWarning: Function get_feature_names is deprecated; get_feature_names is deprecated in 1.0 and will be removed in 1.2. Please use get_feature_names_out instead.\n",
      "  warnings.warn(msg, category=FutureWarning)\n"
     ]
    },
    {
     "data": {
      "text/plain": [
       "['disk', 'format', 'hard', 'how', 'my', 'problems', 'to']"
      ]
     },
     "execution_count": 4,
     "metadata": {},
     "output_type": "execute_result"
    }
   ],
   "source": [
    "content = [\"how to format my hard disk \",\"hard disk format problems\"]\n",
    "X = vectorizer.fit_transform(content)\n",
    "vectorizer.get_feature_names()"
   ]
  },
  {
   "cell_type": "code",
   "execution_count": 5,
   "id": "6bc0d233",
   "metadata": {},
   "outputs": [
    {
     "data": {
      "text/plain": [
       "array([[1, 1, 1, 1, 1, 0, 1],\n",
       "       [1, 1, 1, 0, 0, 1, 0]])"
      ]
     },
     "execution_count": 5,
     "metadata": {},
     "output_type": "execute_result"
    }
   ],
   "source": [
    "X.toarray()"
   ]
  },
  {
   "cell_type": "code",
   "execution_count": 8,
   "id": "03270016",
   "metadata": {},
   "outputs": [
    {
     "data": {
      "text/plain": [
       "array([[1, 1],\n",
       "       [1, 1],\n",
       "       [1, 1],\n",
       "       [1, 0],\n",
       "       [1, 0],\n",
       "       [0, 1],\n",
       "       [1, 0]])"
      ]
     },
     "execution_count": 8,
     "metadata": {},
     "output_type": "execute_result"
    }
   ],
   "source": [
    "X.toarray().transpose()"
   ]
  },
  {
   "cell_type": "markdown",
   "id": "be331893",
   "metadata": {},
   "source": [
    "## Counting Words"
   ]
  },
  {
   "cell_type": "code",
   "execution_count": 72,
   "id": "8b7529ac",
   "metadata": {},
   "outputs": [
    {
     "data": {
      "text/plain": [
       "['This is a toy post about machine learning. Actually, it contains not much interesting stuff.',\n",
       " 'Imaging databases store data. Imaging databases store data. Imaging databases store data.',\n",
       " 'Most imaging databases save images permanently.\\n',\n",
       " 'Imaging databases store data.',\n",
       " 'Imaging databases provide storage capabilities.']"
      ]
     },
     "execution_count": 72,
     "metadata": {},
     "output_type": "execute_result"
    }
   ],
   "source": [
    "from pathlib import Path \n",
    "Toy_Dir = Path('data/toy')\n",
    "posts = []\n",
    "for fn in Toy_Dir.iterdir():\n",
    "    with open(fn ,'r') as f:\n",
    "        posts.append(f.read())\n",
    "posts"
   ]
  },
  {
   "cell_type": "code",
   "execution_count": 73,
   "id": "23ae40fe",
   "metadata": {},
   "outputs": [],
   "source": [
    "vectorizer = CountVectorizer(min_df=1)\n",
    "X_train = vectorizer.fit_transform(posts)"
   ]
  },
  {
   "cell_type": "code",
   "execution_count": 74,
   "id": "4532520c",
   "metadata": {},
   "outputs": [
    {
     "data": {
      "text/plain": [
       "(5, 25)"
      ]
     },
     "execution_count": 74,
     "metadata": {},
     "output_type": "execute_result"
    }
   ],
   "source": [
    "num_samples,num_features = X_train.shape\n",
    "num_samples,num_features"
   ]
  },
  {
   "cell_type": "code",
   "execution_count": 75,
   "id": "ae8bde1c",
   "metadata": {},
   "outputs": [
    {
     "data": {
      "text/plain": [
       "array([[1, 1, 0, 1, 0, 0, 0, 0, 1, 1, 1, 1, 1, 0, 1, 1, 0, 1, 0, 0, 0, 0,\n",
       "        1, 1, 1],\n",
       "       [0, 0, 0, 0, 3, 3, 0, 3, 0, 0, 0, 0, 0, 0, 0, 0, 0, 0, 0, 0, 0, 3,\n",
       "        0, 0, 0],\n",
       "       [0, 0, 0, 0, 0, 1, 1, 1, 0, 0, 0, 0, 0, 1, 0, 0, 1, 0, 0, 1, 0, 0,\n",
       "        0, 0, 0],\n",
       "       [0, 0, 0, 0, 1, 1, 0, 1, 0, 0, 0, 0, 0, 0, 0, 0, 0, 0, 0, 0, 0, 1,\n",
       "        0, 0, 0],\n",
       "       [0, 0, 1, 0, 0, 1, 0, 1, 0, 0, 0, 0, 0, 0, 0, 0, 0, 0, 1, 0, 1, 0,\n",
       "        0, 0, 0]])"
      ]
     },
     "execution_count": 75,
     "metadata": {},
     "output_type": "execute_result"
    }
   ],
   "source": [
    "X_train.toarray()"
   ]
  },
  {
   "cell_type": "code",
   "execution_count": 76,
   "id": "c87f55fb",
   "metadata": {},
   "outputs": [
    {
     "name": "stderr",
     "output_type": "stream",
     "text": [
      "/home/aroooon/anaconda3/lib/python3.9/site-packages/sklearn/utils/deprecation.py:87: FutureWarning: Function get_feature_names is deprecated; get_feature_names is deprecated in 1.0 and will be removed in 1.2. Please use get_feature_names_out instead.\n",
      "  warnings.warn(msg, category=FutureWarning)\n"
     ]
    },
    {
     "data": {
      "text/plain": [
       "['about',\n",
       " 'actually',\n",
       " 'capabilities',\n",
       " 'contains',\n",
       " 'data',\n",
       " 'databases',\n",
       " 'images',\n",
       " 'imaging',\n",
       " 'interesting',\n",
       " 'is',\n",
       " 'it',\n",
       " 'learning',\n",
       " 'machine',\n",
       " 'most',\n",
       " 'much',\n",
       " 'not',\n",
       " 'permanently',\n",
       " 'post',\n",
       " 'provide',\n",
       " 'save',\n",
       " 'storage',\n",
       " 'store',\n",
       " 'stuff',\n",
       " 'this',\n",
       " 'toy']"
      ]
     },
     "execution_count": 76,
     "metadata": {},
     "output_type": "execute_result"
    }
   ],
   "source": [
    "vectorizer.get_feature_names()"
   ]
  },
  {
   "cell_type": "code",
   "execution_count": 19,
   "id": "1a62cd66",
   "metadata": {},
   "outputs": [
    {
     "name": "stdout",
     "output_type": "stream",
     "text": [
      "  (0, 5)\t1\n",
      "  (0, 7)\t1\n"
     ]
    }
   ],
   "source": [
    "new_post = \"imaging databases\"\n",
    "new_post_vec = vectorizer.transform([new_post])\n",
    "print(new_post_vec)"
   ]
  },
  {
   "cell_type": "code",
   "execution_count": 20,
   "id": "ec31df62",
   "metadata": {},
   "outputs": [
    {
     "name": "stdout",
     "output_type": "stream",
     "text": [
      "[[0 0 0 0 0 1 0 1 0 0 0 0 0 0 0 0 0 0 0 0 0 0 0 0 0]]\n"
     ]
    }
   ],
   "source": [
    "print(new_post_vec.toarray())"
   ]
  },
  {
   "cell_type": "code",
   "execution_count": 27,
   "id": "6017880f",
   "metadata": {},
   "outputs": [
    {
     "data": {
      "text/plain": [
       "25"
      ]
     },
     "execution_count": 27,
     "metadata": {},
     "output_type": "execute_result"
    }
   ],
   "source": [
    "len(new_post_vec.toarray()[0])"
   ]
  },
  {
   "cell_type": "code",
   "execution_count": 28,
   "id": "d3f4fd9f",
   "metadata": {},
   "outputs": [
    {
     "data": {
      "text/plain": [
       "'We need to use full array if we want to use it as a vector for similarity calculation'"
      ]
     },
     "execution_count": 28,
     "metadata": {},
     "output_type": "execute_result"
    }
   ],
   "source": [
    "\"\"\"We need to use full array if we want to use it as a vector for similarity calculation\"\"\""
   ]
  },
  {
   "cell_type": "code",
   "execution_count": 29,
   "id": "c4a518b6",
   "metadata": {},
   "outputs": [],
   "source": [
    "def dist_raw(v1,v2):\n",
    "    delta = v1-v2\n",
    "    return scipy.linalg.norm(delta.toarray())"
   ]
  },
  {
   "cell_type": "code",
   "execution_count": 30,
   "id": "58f4f9d0",
   "metadata": {},
   "outputs": [
    {
     "data": {
      "text/plain": [
       "'Here the norm fun calculates the euclidean distance '"
      ]
     },
     "execution_count": 30,
     "metadata": {},
     "output_type": "execute_result"
    }
   ],
   "source": [
    "\"\"\"Here the norm fun calculates the euclidean distance \"\"\""
   ]
  },
  {
   "cell_type": "code",
   "execution_count": 38,
   "id": "53614c52",
   "metadata": {},
   "outputs": [],
   "source": [
    "import scipy"
   ]
  },
  {
   "cell_type": "code",
   "execution_count": 39,
   "id": "e0bfeee9",
   "metadata": {},
   "outputs": [],
   "source": [
    "def best_post(X, new_vec , dist_func):\n",
    "    best_doc= None\n",
    "    best_dist = float('inf')\n",
    "    best_i = None\n",
    "    for i,post in enumerate(posts):\n",
    "        if post == new_post:\n",
    "            continue\n",
    "        post_vec = X.getrow(i)\n",
    "        d = dist_func(post_vec,new_vec)\n",
    "        print(\"=== Post %i with dist=%.2f:\\n    '%s'\" % \\\n",
    "              (i, d, post)) \n",
    "        if d < best_dist: \n",
    "            best_dist = d \n",
    "            best_i = i\n",
    "    print(\"\\n==> Best post is %i with dist=%.2f\" % \\\n",
    "          (best_i, best_dist))\n",
    "    "
   ]
  },
  {
   "cell_type": "code",
   "execution_count": 40,
   "id": "fd7b9727",
   "metadata": {},
   "outputs": [
    {
     "name": "stdout",
     "output_type": "stream",
     "text": [
      "=== Post 0 with dist=4.00:\n",
      "    'This is a toy post about machine learning. Actually, it contains not much interesting stuff.'\n",
      "=== Post 1 with dist=5.10:\n",
      "    'Imaging databases store data. Imaging databases store data. Imaging databases store data.'\n",
      "=== Post 2 with dist=2.00:\n",
      "    'Most imaging databases save images permanently.\n",
      "'\n",
      "=== Post 3 with dist=1.41:\n",
      "    'Imaging databases store data.'\n",
      "=== Post 4 with dist=1.73:\n",
      "    'Imaging databases provide storage capabilities.'\n",
      "\n",
      "==> Best post is 3 with dist=1.41\n"
     ]
    }
   ],
   "source": [
    "best_post(X_train, new_post_vec, dist_raw)"
   ]
  },
  {
   "cell_type": "code",
   "execution_count": 41,
   "id": "cacc167f",
   "metadata": {},
   "outputs": [
    {
     "name": "stdout",
     "output_type": "stream",
     "text": [
      "0\n",
      "This is a toy post about machine learning. Actually, it contains not much interesting stuff.\n",
      "1\n",
      "Imaging databases store data. Imaging databases store data. Imaging databases store data.\n",
      "2\n",
      "Most imaging databases save images permanently.\n",
      "\n",
      "3\n",
      "Imaging databases store data.\n",
      "4\n",
      "Imaging databases provide storage capabilities.\n"
     ]
    }
   ],
   "source": [
    "for i,post in enumerate(posts):\n",
    "    print(i)\n",
    "    print(post)\n",
    "    "
   ]
  },
  {
   "cell_type": "code",
   "execution_count": 91,
   "id": "438ff966",
   "metadata": {},
   "outputs": [
    {
     "name": "stdout",
     "output_type": "stream",
     "text": [
      "[[0 0 1 0 0 1 0 1 0 0 0 0 0 0 0 0 0 0 1 0 1 0 0 0 0]]\n"
     ]
    }
   ],
   "source": [
    "print(X_train.getrow(4).toarray())"
   ]
  },
  {
   "cell_type": "code",
   "execution_count": 86,
   "id": "007a1ada",
   "metadata": {},
   "outputs": [
    {
     "name": "stdout",
     "output_type": "stream",
     "text": [
      "  (0, 23)\t1\n",
      "  (0, 9)\t1\n",
      "  (0, 24)\t1\n",
      "  (0, 17)\t1\n",
      "  (0, 0)\t1\n",
      "  (0, 12)\t1\n",
      "  (0, 11)\t1\n",
      "  (0, 1)\t1\n",
      "  (0, 10)\t1\n",
      "  (0, 3)\t1\n",
      "  (0, 15)\t1\n",
      "  (0, 14)\t1\n",
      "  (0, 8)\t1\n",
      "  (0, 22)\t1\n"
     ]
    }
   ],
   "source": [
    "print(X_train.getrow(0))"
   ]
  },
  {
   "cell_type": "code",
   "execution_count": 78,
   "id": "2855346a",
   "metadata": {},
   "outputs": [
    {
     "name": "stdout",
     "output_type": "stream",
     "text": [
      "  (0, 0)\t1\n",
      "  (0, 1)\t1\n",
      "  (0, 3)\t1\n",
      "  (0, 8)\t1\n",
      "  (0, 9)\t1\n",
      "  (0, 10)\t1\n",
      "  (0, 11)\t1\n",
      "  (0, 12)\t1\n",
      "  (0, 14)\t1\n",
      "  (0, 15)\t1\n",
      "  (0, 17)\t1\n",
      "  (0, 22)\t1\n",
      "  (0, 23)\t1\n",
      "  (0, 24)\t1\n"
     ]
    }
   ],
   "source": [
    "a='This is a toy post about machine learning. Actually, it contains not much interesting stuff.'\n",
    "a_v = vectorizer.transform([a])\n",
    "print(a_v)"
   ]
  },
  {
   "cell_type": "code",
   "execution_count": 87,
   "id": "9efdc098",
   "metadata": {},
   "outputs": [
    {
     "name": "stdout",
     "output_type": "stream",
     "text": [
      "  (0, 7)\t1\n",
      "  (0, 5)\t1\n",
      "  (0, 21)\t1\n",
      "  (0, 4)\t1\n"
     ]
    }
   ],
   "source": [
    "print(X_train.getrow(3))"
   ]
  },
  {
   "cell_type": "code",
   "execution_count": 89,
   "id": "5c144151",
   "metadata": {},
   "outputs": [
    {
     "name": "stdout",
     "output_type": "stream",
     "text": [
      "  (0, 4)\t1\n",
      "  (0, 5)\t1\n",
      "  (0, 7)\t1\n",
      "  (0, 21)\t1\n"
     ]
    }
   ],
   "source": [
    "a='Imaging databases store data.'\n",
    "a_v = vectorizer.transform([a])\n",
    "print(a_v)"
   ]
  },
  {
   "cell_type": "markdown",
   "id": "79d03a4f",
   "metadata": {},
   "source": [
    "## Normalizing the word count and vectors"
   ]
  },
  {
   "cell_type": "code",
   "execution_count": 93,
   "id": "2f767891",
   "metadata": {},
   "outputs": [
    {
     "data": {
      "text/plain": [
       "2.0"
      ]
     },
     "execution_count": 93,
     "metadata": {},
     "output_type": "execute_result"
    }
   ],
   "source": [
    "scipy.linalg.norm(a_v.toarray())"
   ]
  },
  {
   "cell_type": "code",
   "execution_count": null,
   "id": "266da4ec",
   "metadata": {},
   "outputs": [],
   "source": []
  },
  {
   "cell_type": "code",
   "execution_count": 94,
   "id": "814ba366",
   "metadata": {},
   "outputs": [],
   "source": [
    "def dist_norm(v1,v2):\n",
    "    v1_normalized = v1/ scipy.linalg.norm(v1.toarray())\n",
    "    v2_normalized = v2/ scipy.linalg.norm(v1.toarray())\n",
    "    delta = v1_normalized-v2_normalized\n",
    "    return scipy.linalg.norm(delta.toarray())\n",
    "    "
   ]
  },
  {
   "cell_type": "code",
   "execution_count": 96,
   "id": "81b6f3f3",
   "metadata": {},
   "outputs": [
    {
     "name": "stdout",
     "output_type": "stream",
     "text": [
      "=== Post 0 with dist=1.07:\n",
      "    'This is a toy post about machine learning. Actually, it contains not much interesting stuff.'\n",
      "=== Post 1 with dist=0.85:\n",
      "    'Imaging databases store data. Imaging databases store data. Imaging databases store data.'\n",
      "=== Post 2 with dist=0.82:\n",
      "    'Most imaging databases save images permanently.\n",
      "'\n",
      "=== Post 3 with dist=0.71:\n",
      "    'Imaging databases store data.'\n",
      "=== Post 4 with dist=0.77:\n",
      "    'Imaging databases provide storage capabilities.'\n",
      "\n",
      "==> Best post is 3 with dist=0.71\n"
     ]
    }
   ],
   "source": [
    "best_post(X_train,new_post_vec,dist_norm)"
   ]
  },
  {
   "cell_type": "markdown",
   "id": "6dc94051",
   "metadata": {},
   "source": [
    "## Preprocessing – similarity measured as a similar number of common words"
   ]
  },
  {
   "cell_type": "code",
   "execution_count": 99,
   "id": "e47c1baa",
   "metadata": {},
   "outputs": [
    {
     "name": "stdout",
     "output_type": "stream",
     "text": [
      "['a', 'about', 'above', 'across', 'after', 'afterwards', 'again', 'against', 'all', 'almost', 'alone', 'along', 'already', 'also', 'although', 'always', 'am', 'among', 'amongst', 'amoungst']\n"
     ]
    }
   ],
   "source": [
    "vect_engl = CountVectorizer(min_df=1, stop_words='english')\n",
    "print(sorted(vect_engl.get_stop_words())[0:20])"
   ]
  },
  {
   "cell_type": "code",
   "execution_count": 100,
   "id": "b5b066a7",
   "metadata": {},
   "outputs": [
    {
     "name": "stdout",
     "output_type": "stream",
     "text": [
      "#samples: 5, #features: 18\n",
      "['actually', 'capabilities', 'contains', 'data', 'databases', 'images', 'imaging', 'interesting', 'learning', 'machine', 'permanently', 'post', 'provide', 'save', 'storage', 'store', 'stuff', 'toy']\n"
     ]
    },
    {
     "name": "stderr",
     "output_type": "stream",
     "text": [
      "/home/aroooon/anaconda3/lib/python3.9/site-packages/sklearn/utils/deprecation.py:87: FutureWarning: Function get_feature_names is deprecated; get_feature_names is deprecated in 1.0 and will be removed in 1.2. Please use get_feature_names_out instead.\n",
      "  warnings.warn(msg, category=FutureWarning)\n"
     ]
    }
   ],
   "source": [
    "X_train_engl = vect_engl.fit_transform(posts)\n",
    "num_samples_engl, num_features_engl = X_train_engl.shape\n",
    "print(\"#samples: %d, #features: %d\" % (num_samples_engl,  num_features_engl))\n",
    "print(vect_engl.get_feature_names())"
   ]
  },
  {
   "cell_type": "code",
   "execution_count": 101,
   "id": "8c194b6b",
   "metadata": {},
   "outputs": [
    {
     "name": "stdout",
     "output_type": "stream",
     "text": [
      "  (0, 4)\t1\n",
      "  (0, 6)\t1\n"
     ]
    }
   ],
   "source": [
    "new_post_vec_engl = vect_engl.transform([new_post]) \n",
    "print(new_post_vec_engl)"
   ]
  },
  {
   "cell_type": "code",
   "execution_count": 103,
   "id": "daf92696",
   "metadata": {},
   "outputs": [
    {
     "name": "stdout",
     "output_type": "stream",
     "text": [
      "=== Post 0 with dist=1.12:\n",
      "    'This is a toy post about machine learning. Actually, it contains not much interesting stuff.'\n",
      "=== Post 1 with dist=0.85:\n",
      "    'Imaging databases store data. Imaging databases store data. Imaging databases store data.'\n",
      "=== Post 2 with dist=0.77:\n",
      "    'Most imaging databases save images permanently.\n",
      "'\n",
      "=== Post 3 with dist=0.71:\n",
      "    'Imaging databases store data.'\n",
      "=== Post 4 with dist=0.77:\n",
      "    'Imaging databases provide storage capabilities.'\n",
      "\n",
      "==> Best post is 3 with dist=0.71\n"
     ]
    }
   ],
   "source": [
    "best_post(X_train_engl,new_post_vec_engl,dist_norm)"
   ]
  },
  {
   "cell_type": "code",
   "execution_count": 104,
   "id": "59c37596",
   "metadata": {},
   "outputs": [],
   "source": [
    "import nltk.stem"
   ]
  },
  {
   "cell_type": "code",
   "execution_count": 106,
   "id": "d8f52bb2",
   "metadata": {},
   "outputs": [
    {
     "name": "stdout",
     "output_type": "stream",
     "text": [
      "graphic\n"
     ]
    }
   ],
   "source": [
    "s = nltk.stem.SnowballStemmer('english')\n",
    "print(s.stem(\"graphics\"))"
   ]
  },
  {
   "cell_type": "code",
   "execution_count": 107,
   "id": "6630644a",
   "metadata": {},
   "outputs": [
    {
     "name": "stdout",
     "output_type": "stream",
     "text": [
      "imag\n",
      "imag\n",
      "imagin\n",
      "imagin\n",
      "buy\n",
      "buy\n",
      "bought\n"
     ]
    }
   ],
   "source": [
    "print(s.stem(\"imaging\"))\n",
    "print(s.stem(\"image\"))\n",
    "print(s.stem(\"imagination\"))\n",
    "print(s.stem(\"imagine\"))\n",
    "print(s.stem(\"buys\"))\n",
    "print(s.stem(\"buying\"))\n",
    "print(s.stem(\"bought\"))\n"
   ]
  },
  {
   "cell_type": "code",
   "execution_count": 139,
   "id": "da79bd63",
   "metadata": {},
   "outputs": [],
   "source": [
    "english_stremmer = nltk.stem.SnowballStemmer('english')"
   ]
  },
  {
   "cell_type": "code",
   "execution_count": 157,
   "id": "c841eac8",
   "metadata": {},
   "outputs": [
    {
     "name": "stdout",
     "output_type": "stream",
     "text": [
      "StemmedCountVectorizer(stop_words='english')\n"
     ]
    }
   ],
   "source": [
    "class StemmedCountVectorizer(CountVectorizer): \n",
    "    def build_analyzer(self): \n",
    "        analyzer = super(StemmedCountVectorizer, self).build_analyzer()\n",
    "        return lambda doc: (english_stemmer.stem(w) for w in  analyzer(doc))\n",
    "\n",
    "vect_engl_stem = StemmedCountVectorizer(min_df=1, stop_words='english')        \n",
    "print(vect_engl_stem)"
   ]
  },
  {
   "cell_type": "code",
   "execution_count": 158,
   "id": "bb81245d",
   "metadata": {},
   "outputs": [
    {
     "name": "stdout",
     "output_type": "stream",
     "text": [
      "#samples: 5, #features: 17\n",
      "['actual', 'capabl', 'contain', 'data', 'databas', 'imag', 'interest', 'learn', 'machin', 'perman', 'post', 'provid', 'save', 'storag', 'store', 'stuff', 'toy']\n"
     ]
    }
   ],
   "source": [
    "X_train_engl_stem = vect_engl_stem.fit_transform(posts)\n",
    "num_samples_engl_stem, num_features_engl_stem = X_train_engl_stem.shape\n",
    "print(\"#samples: %d, #features: %d\" % (num_samples_engl_stem,  num_features_engl_stem))\n",
    "print(vect_engl_stem.get_feature_names())"
   ]
  },
  {
   "cell_type": "code",
   "execution_count": 159,
   "id": "aa7801bb",
   "metadata": {},
   "outputs": [
    {
     "name": "stdout",
     "output_type": "stream",
     "text": [
      "  (0, 4)\t1\n",
      "  (0, 5)\t1\n",
      "=== Post 0 with dist=1.12:\n",
      "    'This is a toy post about machine learning. Actually, it contains not much interesting stuff.'\n",
      "=== Post 1 with dist=0.85:\n",
      "    'Imaging databases store data. Imaging databases store data. Imaging databases store data.'\n",
      "=== Post 2 with dist=0.65:\n",
      "    'Most imaging databases save images permanently.\n",
      "'\n",
      "=== Post 3 with dist=0.71:\n",
      "    'Imaging databases store data.'\n",
      "=== Post 4 with dist=0.77:\n",
      "    'Imaging databases provide storage capabilities.'\n",
      "\n",
      "==> Best post is 2 with dist=0.65\n"
     ]
    }
   ],
   "source": [
    "new_post_vec_engl_stem = vect_engl_stem.transform([new_post]) \n",
    "print(new_post_vec_engl_stem)\n",
    "\n",
    "best_post(X_train_engl_stem, new_post_vec_engl_stem, dist_norm)"
   ]
  },
  {
   "cell_type": "markdown",
   "id": "ef7997ac",
   "metadata": {},
   "source": [
    "## Stop words on steroids using TFIDF"
   ]
  },
  {
   "cell_type": "code",
   "execution_count": 160,
   "id": "a29b951f",
   "metadata": {},
   "outputs": [
    {
     "name": "stdout",
     "output_type": "stream",
     "text": [
      "term='a'   doc=['a']             tf=1.00   idf=0.00\n",
      "=> tfidf=0.00\n",
      "term='a'   doc=['a', 'b', 'b']   tf=0.33   idf=0.00\n",
      "=> tfidf=0.00\n",
      "term='a'   doc=['a', 'b', 'c']   tf=0.33   idf=0.00\n",
      "=> tfidf=0.00\n",
      "term='b'   doc=['a', 'b', 'b']   tf=0.67   idf=0.41\n",
      "=> tfidf=0.27\n",
      "term='b'   doc=['a', 'b', 'c']   tf=0.33   idf=0.41\n",
      "=> tfidf=0.14\n",
      "term='c'   doc=['a', 'b', 'c']   tf=0.33   idf=1.10\n",
      "=> tfidf=0.37\n"
     ]
    }
   ],
   "source": [
    "def tfidf(term, doc, corpus):\n",
    "    tf = doc.count(term) / len(doc)\n",
    "    idf = np.log(float(len(corpus)) / (len([d for d in corpus if term in d])))\n",
    "    tf_idf = tf * idf\n",
    "    print(\"term='%s'   doc=%-17s tf=%.2f   idf=%.2f\"%\\\n",
    "          (term, doc, tf, idf))\n",
    "    return tf_idf\n",
    "\n",
    "# defining some documents\n",
    "a, abb, abc = [\"a\"], [\"a\", \"b\", \"b\"], [\"a\", \"b\", \"c\"]\n",
    "\n",
    "# defining some copora\n",
    "D = [a, abb, abc]\n",
    "\n",
    "print(\"=> tfidf=%.2f\" % tfidf(\"a\", a, D))\n",
    "print(\"=> tfidf=%.2f\" % tfidf(\"a\", abb, D))\n",
    "print(\"=> tfidf=%.2f\" % tfidf(\"a\", abc, D))\n",
    "print(\"=> tfidf=%.2f\" % tfidf(\"b\", abb, D))\n",
    "print(\"=> tfidf=%.2f\" % tfidf(\"b\", abc, D))\n",
    "print(\"=> tfidf=%.2f\" % tfidf(\"c\", abc, D))"
   ]
  },
  {
   "cell_type": "code",
   "execution_count": 161,
   "id": "4d986ca6",
   "metadata": {},
   "outputs": [
    {
     "name": "stdout",
     "output_type": "stream",
     "text": [
      "StemmedTfidfVectorizer(decode_error='ignore', stop_words='english')\n"
     ]
    }
   ],
   "source": [
    "from sklearn.feature_extraction.text import TfidfVectorizer\n",
    "\n",
    "class StemmedTfidfVectorizer(TfidfVectorizer):\n",
    "\n",
    "    def build_analyzer(self):\n",
    "        analyzer = super(TfidfVectorizer, self).build_analyzer()\n",
    "        return lambda doc: (english_stemmer.stem(w) for w in analyzer(doc))\n",
    "\n",
    "vect_tfidf = StemmedTfidfVectorizer(#min_df=10, max_df=0.5,\n",
    "                                    stop_words='english', decode_error='ignore')\n",
    "print(vect_tfidf)"
   ]
  },
  {
   "cell_type": "code",
   "execution_count": 162,
   "id": "017365eb",
   "metadata": {},
   "outputs": [
    {
     "name": "stdout",
     "output_type": "stream",
     "text": [
      "#samples: 5, #features: 17\n",
      "['actual', 'capabl', 'contain', 'data', 'databas', 'imag', 'interest', 'learn', 'machin', 'perman', 'post', 'provid', 'save', 'storag', 'store', 'stuff', 'toy']\n"
     ]
    }
   ],
   "source": [
    "X_train_tfidf = vect_tfidf.fit_transform(posts)\n",
    "num_samples_tfidf, num_features_tfidf = X_train_tfidf.shape\n",
    "print(\"#samples: %d, #features: %d\" % (num_samples_tfidf,  num_features_tfidf))\n",
    "print(vect_tfidf.get_feature_names())"
   ]
  },
  {
   "cell_type": "markdown",
   "id": "3d36b1d0",
   "metadata": {},
   "source": [
    "## K-means Clustering"
   ]
  },
  {
   "cell_type": "code",
   "execution_count": 167,
   "id": "269cb654",
   "metadata": {},
   "outputs": [
    {
     "data": {
      "text/plain": [
       "<module 'matplotlib.pyplot' from '/home/aroooon/anaconda3/lib/python3.9/site-packages/matplotlib/pyplot.py'>"
      ]
     },
     "execution_count": 167,
     "metadata": {},
     "output_type": "execute_result"
    },
    {
     "data": {
      "image/png": "[encoded data removed]",
      "text/plain": [
       "<Figure size 576x432 with 1 Axes>"
      ]
     },
     "metadata": {
      "needs_background": "light"
     },
     "output_type": "display_data"
    }
   ],
   "source": [
    "from sklearn.cluster import KMeans\n",
    "import matplotlib.pyplot as plt\n",
    "\n",
    "seed = 2\n",
    "np.random.seed(seed)  # to reproduce the data later on\n",
    "\n",
    "num_clusters = 3\n",
    "\n",
    "\n",
    "def plot_clustering(x, y, title, mx=None, ymax=None, xmin=None, km=None):\n",
    "    plt.figure(num=None, figsize=(8, 6))\n",
    "    if km:\n",
    "        plt.scatter(x, y, s=30, c=km.predict(list(zip(x, y))))\n",
    "    else:\n",
    "        plt.scatter(x, y, s=30)\n",
    "\n",
    "    plt.title(title)\n",
    "    plt.xlabel(\"Occurrence word 1\")\n",
    "    plt.ylabel(\"Occurrence word 2\")\n",
    "\n",
    "    plt.autoscale(tight=True)\n",
    "    plt.ylim(ymin=0, ymax=1)\n",
    "    plt.xlim(xmin=0, xmax=1)\n",
    "    plt.grid(True, linestyle='-', color='0.75')\n",
    "\n",
    "    return plt\n",
    "\n",
    "\n",
    "xw1 = scipy.stats.norm(loc=0.3, scale=.15).rvs(20)\n",
    "yw1 = scipy.stats.norm(loc=0.3, scale=.15).rvs(20)\n",
    "\n",
    "xw2 = scipy.stats.norm(loc=0.7, scale=.15).rvs(20)\n",
    "yw2 = scipy.stats.norm(loc=0.7, scale=.15).rvs(20)\n",
    "\n",
    "xw3 = scipy.stats.norm(loc=0.2, scale=.15).rvs(20)\n",
    "yw3 = scipy.stats.norm(loc=0.8, scale=.15).rvs(20)\n",
    "\n",
    "x = np.append(np.append(xw1, xw2), xw3)\n",
    "y = np.append(np.append(yw1, yw2), yw3)\n",
    "\n",
    "plot_clustering(x, y, \"Vectors\")\n"
   ]
  },
  {
   "cell_type": "markdown",
   "id": "a57da789",
   "metadata": {},
   "source": [
    "## Clustering after 1st iteration"
   ]
  },
  {
   "cell_type": "code",
   "execution_count": 169,
   "id": "117c766d",
   "metadata": {},
   "outputs": [
    {
     "name": "stdout",
     "output_type": "stream",
     "text": [
      "Initialization complete\n",
      "Iteration 0, inertia 4.7485267474116775\n"
     ]
    },
    {
     "data": {
      "text/plain": [
       "<matplotlib.collections.PathCollection at 0x7faef1e663d0>"
      ]
     },
     "execution_count": 169,
     "metadata": {},
     "output_type": "execute_result"
    },
    {
     "data": {
      "image/png": "[encoded data removed]",
      "text/plain": [
       "<Figure size 576x432 with 1 Axes>"
      ]
     },
     "metadata": {
      "needs_background": "light"
     },
     "output_type": "display_data"
    }
   ],
   "source": [
    "mx, my = np.meshgrid(np.arange(0, 1, 0.001), np.arange(0, 1, 0.001))\n",
    "\n",
    "km = KMeans(init='random', n_clusters=num_clusters, verbose=1,\n",
    "            n_init=1, max_iter=1,\n",
    "            random_state=seed)\n",
    "km.fit(np.array(list(zip(x, y))))\n",
    "\n",
    "Z = km.predict(np.c_[mx.ravel(), my.ravel()]).reshape(mx.shape)\n",
    "\n",
    "plot_clustering(x, y, \"Clustering iteration 1\", km=km)\n",
    "plt.imshow(Z, interpolation='nearest',\n",
    "           extent=(mx.min(), mx.max(), my.min(), my.max()),\n",
    "           cmap=plt.cm.Blues,\n",
    "           aspect='auto', origin='lower')\n",
    "\n",
    "c1a, c1b, c1c = km.cluster_centers_\n",
    "plt.scatter(km.cluster_centers_[:, 0], km.cluster_centers_[:, 1],\n",
    "              marker='x', linewidth=2, s=100, color='black')"
   ]
  },
  {
   "cell_type": "markdown",
   "id": "8fd523ac",
   "metadata": {},
   "source": [
    "## Clustering after 2nd iteration"
   ]
  },
  {
   "cell_type": "code",
   "execution_count": 171,
   "id": "b7973f86",
   "metadata": {},
   "outputs": [
    {
     "name": "stdout",
     "output_type": "stream",
     "text": [
      "Initialization complete\n",
      "Iteration 0, inertia 4.748526747411677\n",
      "Iteration 1, inertia 3.378785693965447\n"
     ]
    },
    {
     "data": {
      "text/plain": [
       "<matplotlib.patches.Arrow at 0x7faef1d75880>"
      ]
     },
     "execution_count": 171,
     "metadata": {},
     "output_type": "execute_result"
    },
    {
     "data": {
      "image/png": "[encoded data removed]",
      "text/plain": [
       "<Figure size 576x432 with 1 Axes>"
      ]
     },
     "metadata": {
      "needs_background": "light"
     },
     "output_type": "display_data"
    }
   ],
   "source": [
    "km = KMeans(init='random', n_clusters=num_clusters, verbose=1,\n",
    "            n_init=1, max_iter=2,\n",
    "            random_state=seed)\n",
    "km.fit(np.array(list(zip(x, y))))\n",
    "\n",
    "Z = km.predict(np.c_[mx.ravel(), my.ravel()]).reshape(mx.shape)\n",
    "\n",
    "plot_clustering(x, y, \"Clustering iteration 2\", km=km)\n",
    "plt.imshow(Z, interpolation='nearest',\n",
    "           extent=(mx.min(), mx.max(), my.min(), my.max()),\n",
    "           cmap=plt.cm.Blues,\n",
    "           aspect='auto', origin='lower')\n",
    "\n",
    "c2a, c2b, c2c = km.cluster_centers_\n",
    "plt.scatter(km.cluster_centers_[:, 0], km.cluster_centers_[:, 1],\n",
    "              marker='x', linewidth=2, s=100, color='black')\n",
    "\n",
    "plt.gca().add_patch(plt.Arrow(c1a[0], c1a[1], c2a[0] - c1a[0], c2a[1] - c1a[1], width=0.1, color='red'))\n",
    "plt.gca().add_patch(plt.Arrow(c1b[0], c1b[1], c2b[0] - c1b[0], c2b[1] - c1b[1], width=0.1, color='red'))\n",
    "plt.gca().add_patch(plt.Arrow(c1c[0], c1c[1], c2c[0] - c1c[0], c2c[1] - c1c[1], width=0.1, color='red'))\n"
   ]
  },
  {
   "cell_type": "markdown",
   "id": "1a185a81",
   "metadata": {},
   "source": [
    "## Final clustering\n",
    "We iterate at max 10 iterations, but will converge earlier."
   ]
  },
  {
   "cell_type": "code",
   "execution_count": 173,
   "id": "a397536e",
   "metadata": {},
   "outputs": [
    {
     "name": "stdout",
     "output_type": "stream",
     "text": [
      "Initialization complete\n",
      "Iteration 0, inertia 4.7485267474116775\n",
      "Iteration 1, inertia 3.3787856939654475\n",
      "Iteration 2, inertia 2.5999573206286968\n",
      "Iteration 3, inertia 2.4965711402374207\n",
      "Iteration 4, inertia 2.447223016211801\n",
      "Converged at iteration 4: strict convergence.\n"
     ]
    },
    {
     "data": {
      "text/plain": [
       "<matplotlib.collections.PathCollection at 0x7faef1c5e760>"
      ]
     },
     "execution_count": 173,
     "metadata": {},
     "output_type": "execute_result"
    },
    {
     "data": {
      "image/png": "[encoded data removed]",
      "text/plain": [
       "<Figure size 576x432 with 1 Axes>"
      ]
     },
     "metadata": {
      "needs_background": "light"
     },
     "output_type": "display_data"
    }
   ],
   "source": [
    "# 10 iterations\n",
    "km = KMeans(init='random', n_clusters=num_clusters, verbose=1,\n",
    "            n_init=1, max_iter=10,\n",
    "            random_state=seed)\n",
    "km.fit(np.array(list(zip(x, y))))\n",
    "\n",
    "Z = km.predict(np.c_[mx.ravel(), my.ravel()]).reshape(mx.shape)\n",
    "\n",
    "plot_clustering(x, y, \"Clustering iteration 10\", km=km)\n",
    "plt.imshow(Z, interpolation='nearest',\n",
    "             extent=(mx.min(), mx.max(), my.min(), my.max()),\n",
    "             cmap=plt.cm.Blues,\n",
    "             aspect='auto', origin='lower')\n",
    "\n",
    "plt.scatter(km.cluster_centers_[:, 0], km.cluster_centers_[:, 1],\n",
    "              marker='x', linewidth=2, s=100, color='black')\n"
   ]
  },
  {
   "cell_type": "markdown",
   "id": "80dda15e",
   "metadata": {},
   "source": [
    "##  Testing our idea on real data"
   ]
  },
  {
   "cell_type": "code",
   "execution_count": 175,
   "id": "175dcc4d",
   "metadata": {},
   "outputs": [
    {
     "name": "stdout",
     "output_type": "stream",
     "text": [
      "18846\n",
      "['alt.atheism', 'comp.graphics', 'comp.os.ms-windows.misc', 'comp.sys.ibm.pc.hardware', 'comp.sys.mac.hardware', 'comp.windows.x', 'misc.forsale', 'rec.autos', 'rec.motorcycles', 'rec.sport.baseball', 'rec.sport.hockey', 'sci.crypt', 'sci.electronics', 'sci.med', 'sci.space', 'soc.religion.christian', 'talk.politics.guns', 'talk.politics.mideast', 'talk.politics.misc', 'talk.religion.misc']\n"
     ]
    }
   ],
   "source": [
    "import sklearn.datasets\n",
    "all_data = sklearn.datasets.fetch_20newsgroups(subset='all') \n",
    "print(len(all_data.filenames))\n",
    "print(all_data.target_names)"
   ]
  },
  {
   "cell_type": "code",
   "execution_count": 177,
   "id": "1e0eedf8",
   "metadata": {},
   "outputs": [
    {
     "name": "stdout",
     "output_type": "stream",
     "text": [
      "18846\n",
      "['alt.atheism', 'comp.graphics', 'comp.os.ms-windows.misc', 'comp.sys.ibm.pc.hardware', 'comp.sys.mac.hardware', 'comp.windows.x', 'misc.forsale', 'rec.autos', 'rec.motorcycles', 'rec.sport.baseball', 'rec.sport.hockey', 'sci.crypt', 'sci.electronics', 'sci.med', 'sci.space', 'soc.religion.christian', 'talk.politics.guns', 'talk.politics.mideast', 'talk.politics.misc', 'talk.religion.misc']\n"
     ]
    }
   ],
   "source": [
    "import sklearn.datasets\n",
    "all_data = sklearn.datasets.fetch_20newsgroups(subset='all') \n",
    "print(len(all_data.filenames))\n",
    "print(all_data.target_names)"
   ]
  },
  {
   "cell_type": "code",
   "execution_count": 178,
   "id": "a17e2cdc",
   "metadata": {},
   "outputs": [
    {
     "name": "stdout",
     "output_type": "stream",
     "text": [
      "3529\n",
      "2349\n"
     ]
    }
   ],
   "source": [
    "groups = ['comp.graphics', 'comp.os.ms-windows.misc', 'comp.sys.ibm.pc.hardware',\n",
    "          'comp.sys.mac.hardware', 'comp.windows.x', 'sci.space']\n",
    "\n",
    "train_data = sklearn.datasets.fetch_20newsgroups(subset=\"train\", categories=groups)\n",
    "print(len(train_data.filenames))\n",
    "\n",
    "test_data = sklearn.datasets.fetch_20newsgroups(subset='test', categories=groups)\n",
    "print(len(test_data.filenames))"
   ]
  },
  {
   "cell_type": "markdown",
   "id": "44377a33",
   "metadata": {},
   "source": [
    "##  Clustering posts"
   ]
  },
  {
   "cell_type": "code",
   "execution_count": 179,
   "id": "50d2ec5c",
   "metadata": {},
   "outputs": [
    {
     "name": "stdout",
     "output_type": "stream",
     "text": [
      "#samples: 3529, #features: 4712\n"
     ]
    }
   ],
   "source": [
    "vectorizer = StemmedTfidfVectorizer(min_df=10, max_df=0.5,\n",
    "                                    stop_words='english', decode_error='ignore')\n",
    "vectorized = vectorizer.fit_transform(train_data.data)\n",
    "\n",
    "num_samples, num_features = vectorized.shape\n",
    "print(\"#samples: %d, #features: %d\" % (num_samples, num_features))"
   ]
  },
  {
   "cell_type": "code",
   "execution_count": 180,
   "id": "baba9d6f",
   "metadata": {},
   "outputs": [
    {
     "name": "stdout",
     "output_type": "stream",
     "text": [
      "Initialization complete\n",
      "Iteration 0, inertia 5686.052543663701\n",
      "Iteration 1, inertia 3164.8875140123578\n",
      "Iteration 2, inertia 3132.2077111951476\n",
      "Iteration 3, inertia 3111.7125758781403\n",
      "Iteration 4, inertia 3098.583773647866\n",
      "Iteration 5, inertia 3092.1905280374417\n",
      "Iteration 6, inertia 3087.277089244311\n",
      "Iteration 7, inertia 3084.1004773772725\n",
      "Iteration 8, inertia 3082.7997677507024\n",
      "Iteration 9, inertia 3082.234382617418\n",
      "Iteration 10, inertia 3081.9487984162015\n",
      "Iteration 11, inertia 3081.843333964574\n",
      "Iteration 12, inertia 3081.790665037128\n",
      "Iteration 13, inertia 3081.7522177638257\n",
      "Iteration 14, inertia 3081.659718679883\n",
      "Iteration 15, inertia 3081.61679146951\n",
      "Iteration 16, inertia 3081.5894842981666\n",
      "Iteration 17, inertia 3081.5709703035714\n",
      "Converged at iteration 17: strict convergence.\n"
     ]
    }
   ],
   "source": [
    "num_clusters = 50  # np.unique(labels).shape[0]\n",
    "\n",
    "km = KMeans(n_clusters=num_clusters, n_init=1, verbose=1, random_state=3)\n",
    "clustered = km.fit(vectorized)"
   ]
  },
  {
   "cell_type": "code",
   "execution_count": 181,
   "id": "f95f8f96",
   "metadata": {},
   "outputs": [
    {
     "name": "stdout",
     "output_type": "stream",
     "text": [
      "km.labels_=[48 23 31 ...  6  2 22]\n",
      "km.labels_.shape=3529\n"
     ]
    }
   ],
   "source": [
    "print(\"km.labels_=%s\" % km.labels_)\n",
    "print(\"km.labels_.shape=%s\" % km.labels_.shape)"
   ]
  },
  {
   "cell_type": "markdown",
   "id": "c0614c9b",
   "metadata": {},
   "source": [
    "## Solving our initial challenge "
   ]
  },
  {
   "cell_type": "code",
   "execution_count": 182,
   "id": "410ab740",
   "metadata": {},
   "outputs": [],
   "source": [
    "new_post = '''\\\n",
    "Disk drive problems. Hi, I have a problem with my hard disk.\n",
    "After 1 year it is working only sporadically now.\n",
    "I tried to format it, but now it doesn't boot any more.\n",
    "Any ideas? Thanks.\n",
    "'''\n",
    "\n",
    "new_post_vec = vectorizer.transform([new_post])\n",
    "new_post_label = km.predict(new_post_vec)[0]\n",
    "\n",
    "similar_indices = (km.labels_ == new_post_label).nonzero()[0]\n",
    "\n",
    "similar = []\n",
    "for i in similar_indices:\n",
    "    dist = scipy.linalg.norm((new_post_vec - vectorized[i]).toarray())\n",
    "    similar.append((dist, train_data.data[i]))"
   ]
  },
  {
   "cell_type": "code",
   "execution_count": 183,
   "id": "1bfa9509",
   "metadata": {},
   "outputs": [
    {
     "name": "stdout",
     "output_type": "stream",
     "text": [
      "Count similar: 56\n",
      "=== #1 ===\n",
      "(1.0378441731334072, \"From: Thomas Dachsel <GERTHD@mvs.sas.com>\\nSubject: BOOT PROBLEM with IDE controller\\nNntp-Posting-Host: sdcmvs.mvs.sas.com\\nOrganization: SAS Institute Inc.\\nLines: 25\\n\\nHi,\\nI've got a Multi I/O card (IDE controller + serial/parallel\\ninterface) and two floppy drives (5 1/4, 3 1/2) and a\\nQuantum ProDrive 80AT connected to it.\\nI was able to format the hard disk, but I could not boot from\\nit. I can boot from drive A: (which disk drive does not matter)\\nbut if I remove the disk from drive A and press the reset switch,\\nthe LED of drive A: continues to glow, and the hard disk is\\nnot accessed at all.\\nI guess this must be a problem of either the Multi I/o card\\nor floppy disk drive settings (jumper configuration?)\\nDoes someone have any hint what could be the reason for it.\\nPlease reply by email to GERTHD@MVS.SAS.COM\\nThanks,\\nThomas\\n+-------------------------------------------------------------------+\\n| Thomas Dachsel                                                    |\\n| Internet: GERTHD@MVS.SAS.COM                                      |\\n| Fidonet:  Thomas_Dachsel@camel.fido.de (2:247/40)                 |\\n| Subnet:   dachsel@rnivh.rni.sub.org (UUCP in Germany, now active) |\\n| Phone:    +49 6221 4150 (work), +49 6203 12274 (home)             |\\n| Fax:      +49 6221 415101                                         |\\n| Snail:    SAS Institute GmbH, P.O.Box 105307, D-W-6900 Heidelberg |\\n| Tagline:  One bad sector can ruin a whole day...                  |\\n+-------------------------------------------------------------------+\\n\")\n",
      "\n",
      "=== #2 ===\n",
      "(1.1503043264096682, 'From: rpao@mts.mivj.ca.us (Roger C. Pao)\\nSubject: Re: Booting from B drive\\nOrganization: MicroTech Software\\nLines: 34\\n\\nglang@slee01.srl.ford.com (Gordon Lang) writes:\\n\\n>David Weisberger (djweisbe@unix.amherst.edu) wrote:\\n>: I have a 5 1/4\" drive as drive A.  How can I make the system boot from\\n>: my 3 1/2\" B drive?  (Optimally, the computer would be able to boot\\n>: from either A or B, checking them in order for a bootable disk.  But\\n>: if I have to switch cables around and simply switch the drives so that\\n>: it can\\'t boot 5 1/4\" disks, that\\'s OK.  Also, boot_b won\\'t do the trick\\n>: for me.)\\n>: \\n>: Thanks,\\n>:   Davebo\\n>We had the same issue plague us for months on our Gateway.  I finally\\n>got tired of it so I permanently interchanged the drives.  The only\\n>reason I didn\\'t do it in the first place was because I had several\\n>bootable 5-1/4\\'s and some 5-1/4 based install disks which expected\\n>the A drive.  I order all new software (and upgrades) to be 3-1/2 and\\n>the number of \"stupid\" install programs that can\\'t handle an alternate\\n>drive are declining with time - the ones I had are now upgraded.  And\\n>as for the bootable 5-1/4\\'s I just cut 3-1/2 replacements.\\n\\n>If switching the drives is not an option, you might be able to wire up\\n>a drive switch to your computer chasis.  I haven\\'t tried it but I think\\n>it would work as long as it is wired carefully.\\n\\nI did this.  I use a relay (Radio Shack 4PDT) instead of a huge\\nswitch.  This way, if the relay breaks, my drives will still work.\\n\\nIt works fine, but you may still need to change the CMOS before the\\ndrive switch will work correctly for some programs.\\n\\nrp93\\n-- \\nRoger C. Pao  {gordius,bagdad}!mts!rpao, rpao@mts.mivj.ca.us\\n')\n",
      "\n",
      "=== #3 ===\n",
      "(1.2793959084781286, 'From: vg@volkmar.Stollmann.DE (Volkmar Grote)\\nSubject: IBM PS/1 vs TEAC FD\\nDistribution: world\\nOrganization: Me? Organized?\\nLines: 21\\n\\nHello,\\n\\nI already tried our national news group without success.\\n\\nI tried to replace a friend\\'s original IBM floppy disk in his PS/1-PC\\nwith a normal TEAC drive.\\nI already identified the power supply on pins 3 (5V) and 6 (12V), shorted\\npin 6 (5.25\"/3.5\" switch) and inserted pullup resistors (2K2) on pins\\n8, 26, 28, 30, and 34.\\nThe computer doesn\\'t complain about a missing FD, but the FD\\'s light\\nstays on all the time. The drive spins up o.k. when I insert a disk,\\nbut I can\\'t access it.\\nThe TEAC works fine in a normal PC.\\n\\nAre there any points I missed?\\n\\nThank you.\\n\\tVolkmar\\n\\n---\\nVolkmar.Grote@Stollmann.DE\\n')\n"
     ]
    }
   ],
   "source": [
    "similar = sorted(similar)\n",
    "print(\"Count similar: %i\" % len(similar))\n",
    "\n",
    "show_at_1 = similar[0]\n",
    "show_at_2 = similar[len(similar) // 10]\n",
    "show_at_3 = similar[len(similar) // 2]\n",
    "\n",
    "print(\"=== #1 ===\")\n",
    "print(show_at_1)\n",
    "print()\n",
    "\n",
    "print(\"=== #2 ===\")\n",
    "print(show_at_2)\n",
    "print()\n",
    "\n",
    "print(\"=== #3 ===\")\n",
    "print(show_at_3)"
   ]
  },
  {
   "cell_type": "code",
   "execution_count": 184,
   "id": "9686eeb2",
   "metadata": {},
   "outputs": [
    {
     "name": "stdout",
     "output_type": "stream",
     "text": [
      "(245, 'From: SITUNAYA@IBM3090.BHAM.AC.UK\\nSubject: test....(sorry)\\nOrganization: The University of Birmingham, United Kingdom\\nLines: 1\\nNNTP-Posting-Host: ibm3090.bham.ac.uk\\n\\n==============================================================================\\n', 'comp.graphics')\n"
     ]
    }
   ],
   "source": [
    "post_group = zip(train_data.data, train_data.target)\n",
    "\n",
    "# Create a list of tuples that can be sorted by\n",
    "# the length of the posts\n",
    "all = [(len(post[0]), post[0], train_data.target_names[post[1]])\n",
    "       for post in post_group]\n",
    "graphics = sorted([post for post in all if post[2] == 'comp.graphics'])\n",
    "print(graphics[5])"
   ]
  },
  {
   "cell_type": "code",
   "execution_count": 185,
   "id": "e87bc75d",
   "metadata": {},
   "outputs": [
    {
     "name": "stdout",
     "output_type": "stream",
     "text": [
      "['situnaya', 'ibm3090', 'bham', 'ac', 'uk', 'subject', 'test', 'sorri', 'organ', 'univers', 'birmingham', 'unit', 'kingdom', 'line', 'nntp', 'post', 'host', 'ibm3090', 'bham', 'ac', 'uk']\n"
     ]
    }
   ],
   "source": [
    "noise_post = graphics[5][1]\n",
    "\n",
    "analyzer = vectorizer.build_analyzer()\n",
    "print(list(analyzer(noise_post)))"
   ]
  },
  {
   "cell_type": "code",
   "execution_count": 186,
   "id": "1978015b",
   "metadata": {},
   "outputs": [
    {
     "name": "stdout",
     "output_type": "stream",
     "text": [
      "['ac', 'birmingham', 'host', 'kingdom', 'nntp', 'sorri', 'test', 'uk', 'unit', 'univers']\n"
     ]
    },
    {
     "name": "stderr",
     "output_type": "stream",
     "text": [
      "/home/aroooon/anaconda3/lib/python3.9/site-packages/sklearn/utils/deprecation.py:87: FutureWarning: Function get_feature_names is deprecated; get_feature_names is deprecated in 1.0 and will be removed in 1.2. Please use get_feature_names_out instead.\n",
      "  warnings.warn(msg, category=FutureWarning)\n"
     ]
    }
   ],
   "source": [
    "useful = set(analyzer(noise_post)).intersection(vectorizer.get_feature_names())\n",
    "print(sorted(useful))"
   ]
  },
  {
   "cell_type": "code",
   "execution_count": 187,
   "id": "887708ac",
   "metadata": {},
   "outputs": [
    {
     "name": "stdout",
     "output_type": "stream",
     "text": [
      "IDF(ac        ) = 3.51\n",
      "IDF(birmingham) = 6.77\n",
      "IDF(host      ) = 1.74\n",
      "IDF(kingdom   ) = 6.68\n",
      "IDF(nntp      ) = 1.77\n",
      "IDF(sorri     ) = 4.14\n",
      "IDF(test      ) = 3.83\n",
      "IDF(uk        ) = 3.70\n",
      "IDF(unit      ) = 4.42\n",
      "IDF(univers   ) = 1.91\n"
     ]
    }
   ],
   "source": [
    "for term in sorted(useful):\n",
    "    print('IDF(%-10s) = %.2f' % (term, vectorizer._tfidf.idf_[vectorizer.vocabulary_[term]]))"
   ]
  },
  {
   "cell_type": "markdown",
   "id": "70377e06",
   "metadata": {},
   "source": [
    "## Tweaking the Parameters"
   ]
  },
  {
   "cell_type": "code",
   "execution_count": 192,
   "id": "d8cbf2ea",
   "metadata": {},
   "outputs": [
    {
     "data": {
      "text/plain": [
       "\" We can tweak the number of clusters, or play with the vectorizer's max_features We can also try some different cluster center  initialization.for term in sorted(useful): There are more exciting alternatives to K-means itself. There are, for example, clustering approaches that let you use different similarity measurements, such as Cosine similarity, Pearson, or Jaccard\""
      ]
     },
     "execution_count": 192,
     "metadata": {},
     "output_type": "execute_result"
    }
   ],
   "source": [
    "\"\"\" We can tweak the number of clusters, or play with the vectorizer's max_features We can also try some different cluster center  initialization.for term in sorted(useful): There are more exciting alternatives to K-means itself. There are, for example, clustering approaches that let you use different similarity measurements, such as Cosine similarity, Pearson, or Jaccard\"\"\""
   ]
  },
  {
   "cell_type": "code",
   "execution_count": null,
   "id": "4480d432",
   "metadata": {},
   "outputs": [],
   "source": []
  }
 ],
 "metadata": {
  "kernelspec": {
   "display_name": "Python 3 (ipykernel)",
   "language": "python",
   "name": "python3"
  },
  "language_info": {
   "codemirror_mode": {
    "name": "ipython",
    "version": 3
   },
   "file_extension": ".py",
   "mimetype": "text/x-python",
   "name": "python",
   "nbconvert_exporter": "python",
   "pygments_lexer": "ipython3",
   "version": "3.9.12"
  }
 },
 "nbformat": 4,
 "nbformat_minor": 5
}
