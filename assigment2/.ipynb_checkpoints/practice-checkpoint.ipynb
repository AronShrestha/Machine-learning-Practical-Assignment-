{
 "cells": [
  {
   "cell_type": "code",
   "execution_count": 2,
   "id": "7ae26adf",
   "metadata": {},
   "outputs": [],
   "source": [
    "import numpy as np"
   ]
  },
  {
   "cell_type": "code",
   "execution_count": 3,
   "id": "e1d4be21",
   "metadata": {},
   "outputs": [],
   "source": [
    "features=[]\n",
    "target =[]\n",
    "target_names=set()"
   ]
  },
  {
   "cell_type": "code",
   "execution_count": 4,
   "id": "1aa8b997",
   "metadata": {},
   "outputs": [],
   "source": [
    "with open('seeds.tsv') as ifile:\n",
    "    for line in ifile:\n",
    "        tokens=line.strip().split('\\t')"
   ]
  },
  {
   "cell_type": "code",
   "execution_count": 5,
   "id": "0d86b535",
   "metadata": {},
   "outputs": [
    {
     "data": {
      "text/plain": [
       "['12.3', '13.34', '0.8684', '5.243', '2.974', '5.637', '5.063', 'Canadian']"
      ]
     },
     "execution_count": 5,
     "metadata": {},
     "output_type": "execute_result"
    }
   ],
   "source": [
    "tokens"
   ]
  },
  {
   "cell_type": "code",
   "execution_count": 6,
   "id": "4d7414d0",
   "metadata": {},
   "outputs": [
    {
     "data": {
      "text/plain": [
       "'Canadian'"
      ]
     },
     "execution_count": 6,
     "metadata": {},
     "output_type": "execute_result"
    }
   ],
   "source": [
    "tokens[-1]"
   ]
  },
  {
   "cell_type": "code",
   "execution_count": 7,
   "id": "4217394f",
   "metadata": {},
   "outputs": [
    {
     "data": {
      "text/plain": [
       "['12.3', '13.34', '0.8684', '5.243', '2.974', '5.637', '5.063']"
      ]
     },
     "execution_count": 7,
     "metadata": {},
     "output_type": "execute_result"
    }
   ],
   "source": [
    "tokens[:-1]"
   ]
  },
  {
   "cell_type": "code",
   "execution_count": null,
   "id": "af433bcc",
   "metadata": {},
   "outputs": [],
   "source": []
  }
 ],
 "metadata": {
  "kernelspec": {
   "display_name": "Python 3 (ipykernel)",
   "language": "python",
   "name": "python3"
  },
  "language_info": {
   "codemirror_mode": {
    "name": "ipython",
    "version": 3
   },
   "file_extension": ".py",
   "mimetype": "text/x-python",
   "name": "python",
   "nbconvert_exporter": "python",
   "pygments_lexer": "ipython3",
   "version": "3.9.12"
  }
 },
 "nbformat": 4,
 "nbformat_minor": 5
}
